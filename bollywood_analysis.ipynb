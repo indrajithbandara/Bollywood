{
 "cells": [
  {
   "cell_type": "code",
   "execution_count": 1,
   "metadata": {
    "collapsed": false
   },
   "outputs": [],
   "source": [
    "# all imports\n",
    "from IPython.display import HTML\n",
    "import numpy as np\n",
    "import urllib2\n",
    "import bs4 # beautiful soup\n",
    "import time\n",
    "import operator\n",
    "import socket\n",
    "import cPickle\n",
    "import re # regular expressions\n",
    "\n",
    "from pandas import Series\n",
    "import pandas as pd\n",
    "from pandas import DataFrame\n",
    "\n",
    "import matplotlib\n",
    "import matplotlib.pyplot as plt\n",
    "%matplotlib inline\n",
    "\n",
    "pd.set_option('display.width', 500)\n",
    "pd.set_option('display.max_columns', 100)\n",
    "pd.set_option('display.notebook_repr_html', True)\n",
    "\n",
    "import seaborn as sns\n",
    "sns.set_context('talk')\n",
    "sns.set_style('white')"
   ]
  },
  {
   "cell_type": "markdown",
   "metadata": {},
   "source": [
    "## Cinemalytics"
   ]
  },
  {
   "cell_type": "markdown",
   "metadata": {},
   "source": [
    "## Getting data with an API"
   ]
  },
  {
   "cell_type": "code",
   "execution_count": 2,
   "metadata": {
    "collapsed": true
   },
   "outputs": [],
   "source": [
    "%run scripts/cinemalytics.py"
   ]
  },
  {
   "cell_type": "code",
   "execution_count": 3,
   "metadata": {
    "collapsed": true
   },
   "outputs": [],
   "source": [
    "# libraries required\n",
    "import json\n",
    "import requests\n",
    "\n",
    "auth_token = get_cinemalytics_auth_token()\n",
    "\n",
    "url = 'http://api.cinemalytics.com/v1/movie/year/1990/?auth_token='+ auth_token\n",
    "data = urllib2.urlopen(url).read()"
   ]
  },
  {
   "cell_type": "code",
   "execution_count": 4,
   "metadata": {
    "collapsed": false
   },
   "outputs": [],
   "source": [
    "# create array from JSON\n",
    "dataArr = json.loads(data)"
   ]
  },
  {
   "cell_type": "code",
   "execution_count": 6,
   "metadata": {
    "collapsed": false
   },
   "outputs": [
    {
     "name": "stdout",
     "output_type": "stream",
     "text": [
      "[u'PosterPath', u'Rating', u'ReleaseDate', u'Description', u'Title', u'ImdbId', u'Region', u'RatingCount', u'Budget', u'Revenue', u'OriginalTitle', u'Country', u'Genre', u'CensorRating', u'Runtime', u'Id']\n"
     ]
    }
   ],
   "source": [
    "# explore array\n",
    "print dataArr[0].keys()"
   ]
  },
  {
   "cell_type": "code",
   "execution_count": 8,
   "metadata": {
    "collapsed": false
   },
   "outputs": [
    {
     "name": "stdout",
     "output_type": "stream",
     "text": [
      "24\n"
     ]
    }
   ],
   "source": [
    "# count of results -> number of movies released in the year 1990\n",
    "print len(dataArr)"
   ]
  },
  {
   "cell_type": "code",
   "execution_count": 9,
   "metadata": {
    "collapsed": true
   },
   "outputs": [],
   "source": [
    "# since this api gives us the all the movies released for a particular year we could\n",
    "# build a database for the past two and half decades to see how the film industry have\n",
    "# changed since then.\n",
    "\n",
    "MOVIES_BY_YEAR_URL = 'http://api.cinemalytics.com/v1/movie/year/'\n",
    "bollywood_movies_database = []\n",
    "\n",
    "def build_movie_database(yearList):\n",
    "    for year in yearList:\n",
    "        url = MOVIES_BY_YEAR_URL + str(year) + '/?auth_token=' + auth_token\n",
    "        \n",
    "        movies_by_curr_year = urllib2.urlopen(url).read()\n",
    "        movies_by_curr_year_list = json.loads(movies_by_curr_year)\n",
    "        \n",
    "        for m in movies_by_curr_year_list:\n",
    "            bollywood_movies_database.append(m)\n",
    "        \n",
    "        time.sleep(2) # just being nice"
   ]
  },
  {
   "cell_type": "code",
   "execution_count": 10,
   "metadata": {
    "collapsed": false
   },
   "outputs": [],
   "source": [
    "yearList = range(1990, 2016) # from 1990 to 2015\n",
    "build_movie_database(yearList)"
   ]
  },
  {
   "cell_type": "code",
   "execution_count": 11,
   "metadata": {
    "collapsed": true
   },
   "outputs": [],
   "source": [
    "movies = DataFrame(bollywood_movies_database)"
   ]
  },
  {
   "cell_type": "code",
   "execution_count": 12,
   "metadata": {
    "collapsed": false
   },
   "outputs": [
    {
     "name": "stdout",
     "output_type": "stream",
     "text": [
      "<class 'pandas.core.frame.DataFrame'>\n",
      "Int64Index: 1730 entries, 0 to 1729\n",
      "Data columns (total 16 columns):\n",
      "Budget           1730 non-null int64\n",
      "CensorRating     1730 non-null object\n",
      "Country          1730 non-null object\n",
      "Description      1730 non-null object\n",
      "Genre            1730 non-null object\n",
      "Id               1730 non-null object\n",
      "ImdbId           1730 non-null object\n",
      "OriginalTitle    1730 non-null object\n",
      "PosterPath       1730 non-null object\n",
      "Rating           1730 non-null float64\n",
      "RatingCount      1730 non-null int64\n",
      "Region           1730 non-null object\n",
      "ReleaseDate      1730 non-null object\n",
      "Revenue          1730 non-null int64\n",
      "Runtime          1730 non-null int64\n",
      "Title            1730 non-null object\n",
      "dtypes: float64(1), int64(4), object(11)\n",
      "memory usage: 229.8+ KB\n"
     ]
    }
   ],
   "source": [
    "movies.info()"
   ]
  },
  {
   "cell_type": "markdown",
   "metadata": {},
   "source": [
    "## Saving data"
   ]
  },
  {
   "cell_type": "code",
   "execution_count": 15,
   "metadata": {
    "collapsed": false
   },
   "outputs": [],
   "source": [
    "movies.to_csv('./data/data.csv', index=False, encoding='utf-8')"
   ]
  },
  {
   "cell_type": "code",
   "execution_count": 16,
   "metadata": {
    "collapsed": false
   },
   "outputs": [
    {
     "data": {
      "text/html": [
       "<div style=\"max-height:1000px;max-width:1500px;overflow:auto;\">\n",
       "<table border=\"1\" class=\"dataframe\">\n",
       "  <thead>\n",
       "    <tr style=\"text-align: right;\">\n",
       "      <th></th>\n",
       "      <th>Budget</th>\n",
       "      <th>CensorRating</th>\n",
       "      <th>Country</th>\n",
       "      <th>Description</th>\n",
       "      <th>Genre</th>\n",
       "      <th>Id</th>\n",
       "      <th>ImdbId</th>\n",
       "      <th>OriginalTitle</th>\n",
       "      <th>PosterPath</th>\n",
       "      <th>Rating</th>\n",
       "      <th>RatingCount</th>\n",
       "      <th>Region</th>\n",
       "      <th>ReleaseDate</th>\n",
       "      <th>Revenue</th>\n",
       "      <th>Runtime</th>\n",
       "      <th>Title</th>\n",
       "    </tr>\n",
       "  </thead>\n",
       "  <tbody>\n",
       "    <tr>\n",
       "      <th>0</th>\n",
       "      <td> 0</td>\n",
       "      <td> </td>\n",
       "      <td> IN</td>\n",
       "      <td> </td>\n",
       "      <td> </td>\n",
       "      <td> 6e94d6ec</td>\n",
       "      <td> tt0246008</td>\n",
       "      <td>         Kondaveeti Donga</td>\n",
       "      <td> https://s3-ap-southeast-1.amazonaws.com/cinema...</td>\n",
       "      <td> 0</td>\n",
       "      <td> 1</td>\n",
       "      <td> BOLLYWOOD</td>\n",
       "      <td>   3/9/1990</td>\n",
       "      <td> 0</td>\n",
       "      <td>   0</td>\n",
       "      <td>         Kondaveeti Donga</td>\n",
       "    </tr>\n",
       "    <tr>\n",
       "      <th>1</th>\n",
       "      <td> 0</td>\n",
       "      <td> </td>\n",
       "      <td> IN</td>\n",
       "      <td> </td>\n",
       "      <td> </td>\n",
       "      <td> c5d72e04</td>\n",
       "      <td> tt0259877</td>\n",
       "      <td>            Bandh Darwaza</td>\n",
       "      <td> https://s3-ap-southeast-1.amazonaws.com/cinema...</td>\n",
       "      <td> 0</td>\n",
       "      <td> 1</td>\n",
       "      <td> BOLLYWOOD</td>\n",
       "      <td>   6/1/1990</td>\n",
       "      <td> 0</td>\n",
       "      <td>   0</td>\n",
       "      <td>            Bandh Darwaza</td>\n",
       "    </tr>\n",
       "    <tr>\n",
       "      <th>2</th>\n",
       "      <td> 0</td>\n",
       "      <td> </td>\n",
       "      <td> IN</td>\n",
       "      <td> </td>\n",
       "      <td> </td>\n",
       "      <td> c228b5f0</td>\n",
       "      <td> tt0337650</td>\n",
       "      <td>          Jawani Zindabad</td>\n",
       "      <td> https://s3-ap-southeast-1.amazonaws.com/cinema...</td>\n",
       "      <td> 0</td>\n",
       "      <td> 1</td>\n",
       "      <td> BOLLYWOOD</td>\n",
       "      <td>  7/17/1990</td>\n",
       "      <td> 0</td>\n",
       "      <td>   0</td>\n",
       "      <td>          Jawani Zindabad</td>\n",
       "    </tr>\n",
       "    <tr>\n",
       "      <th>3</th>\n",
       "      <td> 0</td>\n",
       "      <td> </td>\n",
       "      <td> IN</td>\n",
       "      <td> </td>\n",
       "      <td> </td>\n",
       "      <td> d57f08bc</td>\n",
       "      <td> tt0099080</td>\n",
       "      <td> Baaghi: A Rebel for Love</td>\n",
       "      <td> https://s3-ap-southeast-1.amazonaws.com/cinema...</td>\n",
       "      <td> 0</td>\n",
       "      <td> 1</td>\n",
       "      <td> BOLLYWOOD</td>\n",
       "      <td> 12/11/1990</td>\n",
       "      <td> 0</td>\n",
       "      <td>   0</td>\n",
       "      <td> Baaghi: A Rebel for Love</td>\n",
       "    </tr>\n",
       "    <tr>\n",
       "      <th>4</th>\n",
       "      <td> 0</td>\n",
       "      <td> </td>\n",
       "      <td> IN</td>\n",
       "      <td> </td>\n",
       "      <td> </td>\n",
       "      <td> 377bbe75</td>\n",
       "      <td> tt0242509</td>\n",
       "      <td>               Haatim Tai</td>\n",
       "      <td> https://s3-ap-southeast-1.amazonaws.com/cinema...</td>\n",
       "      <td> 0</td>\n",
       "      <td> 1</td>\n",
       "      <td> BOLLYWOOD</td>\n",
       "      <td>  4/20/1990</td>\n",
       "      <td> 0</td>\n",
       "      <td> 125</td>\n",
       "      <td>               Haatim Tai</td>\n",
       "    </tr>\n",
       "  </tbody>\n",
       "</table>\n",
       "</div>"
      ],
      "text/plain": [
       "   Budget CensorRating Country Description Genre        Id     ImdbId             OriginalTitle                                         PosterPath  Rating  RatingCount     Region ReleaseDate  Revenue  Runtime                     Title\n",
       "0       0                   IN                    6e94d6ec  tt0246008          Kondaveeti Donga  https://s3-ap-southeast-1.amazonaws.com/cinema...       0            1  BOLLYWOOD    3/9/1990        0        0          Kondaveeti Donga\n",
       "1       0                   IN                    c5d72e04  tt0259877             Bandh Darwaza  https://s3-ap-southeast-1.amazonaws.com/cinema...       0            1  BOLLYWOOD    6/1/1990        0        0             Bandh Darwaza\n",
       "2       0                   IN                    c228b5f0  tt0337650           Jawani Zindabad  https://s3-ap-southeast-1.amazonaws.com/cinema...       0            1  BOLLYWOOD   7/17/1990        0        0           Jawani Zindabad\n",
       "3       0                   IN                    d57f08bc  tt0099080  Baaghi: A Rebel for Love  https://s3-ap-southeast-1.amazonaws.com/cinema...       0            1  BOLLYWOOD  12/11/1990        0        0  Baaghi: A Rebel for Love\n",
       "4       0                   IN                    377bbe75  tt0242509                Haatim Tai  https://s3-ap-southeast-1.amazonaws.com/cinema...       0            1  BOLLYWOOD   4/20/1990        0      125                Haatim Tai"
      ]
     },
     "execution_count": 16,
     "metadata": {},
     "output_type": "execute_result"
    }
   ],
   "source": [
    "## We have data for 1730 movies\n",
    "## looks like censor rating is interpreted as an object so we have to take care of that\n",
    "## lets take a look at data\n",
    "\n",
    "movies.head()"
   ]
  },
  {
   "cell_type": "code",
   "execution_count": 17,
   "metadata": {
    "collapsed": false
   },
   "outputs": [],
   "source": [
    "# so most of the movies don't have censor rating\n",
    "# let's get rid of it\n",
    "\n",
    "movies.drop('CensorRating', inplace=True, axis=1)"
   ]
  },
  {
   "cell_type": "code",
   "execution_count": 18,
   "metadata": {
    "collapsed": false
   },
   "outputs": [],
   "source": [
    "# lets lowercase all the columns\n",
    "movies.columns = movies.columns.map(lambda x: x.lower())"
   ]
  },
  {
   "cell_type": "code",
   "execution_count": 19,
   "metadata": {
    "collapsed": false
   },
   "outputs": [
    {
     "name": "stdout",
     "output_type": "stream",
     "text": [
      "[u'budget', u'country', u'description', u'genre', u'id', u'imdbid', u'originaltitle', u'posterpath', u'rating', u'ratingcount', u'region', u'releasedate', u'revenue', u'runtime', u'title']\n"
     ]
    }
   ],
   "source": [
    "print list(movies.columns)"
   ]
  },
  {
   "cell_type": "code",
   "execution_count": 20,
   "metadata": {
    "collapsed": false
   },
   "outputs": [],
   "source": [
    "# release date has also been interpreted as an object\n",
    "# lets convert it to datetime instead\n",
    "movies.loc[:, 'releasedate'] = pd.to_datetime(movies.releasedate)"
   ]
  },
  {
   "cell_type": "code",
   "execution_count": 21,
   "metadata": {
    "collapsed": false
   },
   "outputs": [
    {
     "data": {
      "text/html": [
       "<div style=\"max-height:1000px;max-width:1500px;overflow:auto;\">\n",
       "<table border=\"1\" class=\"dataframe\">\n",
       "  <thead>\n",
       "    <tr style=\"text-align: right;\">\n",
       "      <th></th>\n",
       "      <th>budget</th>\n",
       "      <th>country</th>\n",
       "      <th>description</th>\n",
       "      <th>genre</th>\n",
       "      <th>id</th>\n",
       "      <th>imdbid</th>\n",
       "      <th>originaltitle</th>\n",
       "      <th>posterpath</th>\n",
       "      <th>rating</th>\n",
       "      <th>ratingcount</th>\n",
       "      <th>region</th>\n",
       "      <th>releasedate</th>\n",
       "      <th>revenue</th>\n",
       "      <th>runtime</th>\n",
       "      <th>title</th>\n",
       "    </tr>\n",
       "  </thead>\n",
       "  <tbody>\n",
       "    <tr>\n",
       "      <th>0</th>\n",
       "      <td> 0</td>\n",
       "      <td> IN</td>\n",
       "      <td> </td>\n",
       "      <td> </td>\n",
       "      <td> 6e94d6ec</td>\n",
       "      <td> tt0246008</td>\n",
       "      <td>         Kondaveeti Donga</td>\n",
       "      <td> https://s3-ap-southeast-1.amazonaws.com/cinema...</td>\n",
       "      <td> 0</td>\n",
       "      <td> 1</td>\n",
       "      <td> BOLLYWOOD</td>\n",
       "      <td>1990-03-09</td>\n",
       "      <td> 0</td>\n",
       "      <td>   0</td>\n",
       "      <td>         Kondaveeti Donga</td>\n",
       "    </tr>\n",
       "    <tr>\n",
       "      <th>1</th>\n",
       "      <td> 0</td>\n",
       "      <td> IN</td>\n",
       "      <td> </td>\n",
       "      <td> </td>\n",
       "      <td> c5d72e04</td>\n",
       "      <td> tt0259877</td>\n",
       "      <td>            Bandh Darwaza</td>\n",
       "      <td> https://s3-ap-southeast-1.amazonaws.com/cinema...</td>\n",
       "      <td> 0</td>\n",
       "      <td> 1</td>\n",
       "      <td> BOLLYWOOD</td>\n",
       "      <td>1990-06-01</td>\n",
       "      <td> 0</td>\n",
       "      <td>   0</td>\n",
       "      <td>            Bandh Darwaza</td>\n",
       "    </tr>\n",
       "    <tr>\n",
       "      <th>2</th>\n",
       "      <td> 0</td>\n",
       "      <td> IN</td>\n",
       "      <td> </td>\n",
       "      <td> </td>\n",
       "      <td> c228b5f0</td>\n",
       "      <td> tt0337650</td>\n",
       "      <td>          Jawani Zindabad</td>\n",
       "      <td> https://s3-ap-southeast-1.amazonaws.com/cinema...</td>\n",
       "      <td> 0</td>\n",
       "      <td> 1</td>\n",
       "      <td> BOLLYWOOD</td>\n",
       "      <td>1990-07-17</td>\n",
       "      <td> 0</td>\n",
       "      <td>   0</td>\n",
       "      <td>          Jawani Zindabad</td>\n",
       "    </tr>\n",
       "    <tr>\n",
       "      <th>3</th>\n",
       "      <td> 0</td>\n",
       "      <td> IN</td>\n",
       "      <td> </td>\n",
       "      <td> </td>\n",
       "      <td> d57f08bc</td>\n",
       "      <td> tt0099080</td>\n",
       "      <td> Baaghi: A Rebel for Love</td>\n",
       "      <td> https://s3-ap-southeast-1.amazonaws.com/cinema...</td>\n",
       "      <td> 0</td>\n",
       "      <td> 1</td>\n",
       "      <td> BOLLYWOOD</td>\n",
       "      <td>1990-12-11</td>\n",
       "      <td> 0</td>\n",
       "      <td>   0</td>\n",
       "      <td> Baaghi: A Rebel for Love</td>\n",
       "    </tr>\n",
       "    <tr>\n",
       "      <th>4</th>\n",
       "      <td> 0</td>\n",
       "      <td> IN</td>\n",
       "      <td> </td>\n",
       "      <td> </td>\n",
       "      <td> 377bbe75</td>\n",
       "      <td> tt0242509</td>\n",
       "      <td>               Haatim Tai</td>\n",
       "      <td> https://s3-ap-southeast-1.amazonaws.com/cinema...</td>\n",
       "      <td> 0</td>\n",
       "      <td> 1</td>\n",
       "      <td> BOLLYWOOD</td>\n",
       "      <td>1990-04-20</td>\n",
       "      <td> 0</td>\n",
       "      <td> 125</td>\n",
       "      <td>               Haatim Tai</td>\n",
       "    </tr>\n",
       "  </tbody>\n",
       "</table>\n",
       "</div>"
      ],
      "text/plain": [
       "   budget country description genre        id     imdbid             originaltitle                                         posterpath  rating  ratingcount     region releasedate  revenue  runtime                     title\n",
       "0       0      IN                    6e94d6ec  tt0246008          Kondaveeti Donga  https://s3-ap-southeast-1.amazonaws.com/cinema...       0            1  BOLLYWOOD  1990-03-09        0        0          Kondaveeti Donga\n",
       "1       0      IN                    c5d72e04  tt0259877             Bandh Darwaza  https://s3-ap-southeast-1.amazonaws.com/cinema...       0            1  BOLLYWOOD  1990-06-01        0        0             Bandh Darwaza\n",
       "2       0      IN                    c228b5f0  tt0337650           Jawani Zindabad  https://s3-ap-southeast-1.amazonaws.com/cinema...       0            1  BOLLYWOOD  1990-07-17        0        0           Jawani Zindabad\n",
       "3       0      IN                    d57f08bc  tt0099080  Baaghi: A Rebel for Love  https://s3-ap-southeast-1.amazonaws.com/cinema...       0            1  BOLLYWOOD  1990-12-11        0        0  Baaghi: A Rebel for Love\n",
       "4       0      IN                    377bbe75  tt0242509                Haatim Tai  https://s3-ap-southeast-1.amazonaws.com/cinema...       0            1  BOLLYWOOD  1990-04-20        0      125                Haatim Tai"
      ]
     },
     "execution_count": 21,
     "metadata": {},
     "output_type": "execute_result"
    }
   ],
   "source": [
    "# lets take a look at the data again\n",
    "movies.head()"
   ]
  },
  {
   "cell_type": "code",
   "execution_count": 22,
   "metadata": {
    "collapsed": true
   },
   "outputs": [],
   "source": [
    "# lets set the id as the index of the data frame\n",
    "movies = movies.set_index('id')"
   ]
  },
  {
   "cell_type": "code",
   "execution_count": 23,
   "metadata": {
    "collapsed": false
   },
   "outputs": [
    {
     "data": {
      "text/html": [
       "<div style=\"max-height:1000px;max-width:1500px;overflow:auto;\">\n",
       "<table border=\"1\" class=\"dataframe\">\n",
       "  <thead>\n",
       "    <tr style=\"text-align: right;\">\n",
       "      <th></th>\n",
       "      <th>budget</th>\n",
       "      <th>country</th>\n",
       "      <th>description</th>\n",
       "      <th>genre</th>\n",
       "      <th>imdbid</th>\n",
       "      <th>originaltitle</th>\n",
       "      <th>posterpath</th>\n",
       "      <th>rating</th>\n",
       "      <th>ratingcount</th>\n",
       "      <th>region</th>\n",
       "      <th>releasedate</th>\n",
       "      <th>revenue</th>\n",
       "      <th>runtime</th>\n",
       "      <th>title</th>\n",
       "    </tr>\n",
       "    <tr>\n",
       "      <th>id</th>\n",
       "      <th></th>\n",
       "      <th></th>\n",
       "      <th></th>\n",
       "      <th></th>\n",
       "      <th></th>\n",
       "      <th></th>\n",
       "      <th></th>\n",
       "      <th></th>\n",
       "      <th></th>\n",
       "      <th></th>\n",
       "      <th></th>\n",
       "      <th></th>\n",
       "      <th></th>\n",
       "      <th></th>\n",
       "    </tr>\n",
       "  </thead>\n",
       "  <tbody>\n",
       "    <tr>\n",
       "      <th>6e94d6ec</th>\n",
       "      <td> 0</td>\n",
       "      <td> IN</td>\n",
       "      <td> </td>\n",
       "      <td> </td>\n",
       "      <td> tt0246008</td>\n",
       "      <td>         Kondaveeti Donga</td>\n",
       "      <td> https://s3-ap-southeast-1.amazonaws.com/cinema...</td>\n",
       "      <td> 0</td>\n",
       "      <td> 1</td>\n",
       "      <td> BOLLYWOOD</td>\n",
       "      <td>1990-03-09</td>\n",
       "      <td> 0</td>\n",
       "      <td>   0</td>\n",
       "      <td>         Kondaveeti Donga</td>\n",
       "    </tr>\n",
       "    <tr>\n",
       "      <th>c5d72e04</th>\n",
       "      <td> 0</td>\n",
       "      <td> IN</td>\n",
       "      <td> </td>\n",
       "      <td> </td>\n",
       "      <td> tt0259877</td>\n",
       "      <td>            Bandh Darwaza</td>\n",
       "      <td> https://s3-ap-southeast-1.amazonaws.com/cinema...</td>\n",
       "      <td> 0</td>\n",
       "      <td> 1</td>\n",
       "      <td> BOLLYWOOD</td>\n",
       "      <td>1990-06-01</td>\n",
       "      <td> 0</td>\n",
       "      <td>   0</td>\n",
       "      <td>            Bandh Darwaza</td>\n",
       "    </tr>\n",
       "    <tr>\n",
       "      <th>c228b5f0</th>\n",
       "      <td> 0</td>\n",
       "      <td> IN</td>\n",
       "      <td> </td>\n",
       "      <td> </td>\n",
       "      <td> tt0337650</td>\n",
       "      <td>          Jawani Zindabad</td>\n",
       "      <td> https://s3-ap-southeast-1.amazonaws.com/cinema...</td>\n",
       "      <td> 0</td>\n",
       "      <td> 1</td>\n",
       "      <td> BOLLYWOOD</td>\n",
       "      <td>1990-07-17</td>\n",
       "      <td> 0</td>\n",
       "      <td>   0</td>\n",
       "      <td>          Jawani Zindabad</td>\n",
       "    </tr>\n",
       "    <tr>\n",
       "      <th>d57f08bc</th>\n",
       "      <td> 0</td>\n",
       "      <td> IN</td>\n",
       "      <td> </td>\n",
       "      <td> </td>\n",
       "      <td> tt0099080</td>\n",
       "      <td> Baaghi: A Rebel for Love</td>\n",
       "      <td> https://s3-ap-southeast-1.amazonaws.com/cinema...</td>\n",
       "      <td> 0</td>\n",
       "      <td> 1</td>\n",
       "      <td> BOLLYWOOD</td>\n",
       "      <td>1990-12-11</td>\n",
       "      <td> 0</td>\n",
       "      <td>   0</td>\n",
       "      <td> Baaghi: A Rebel for Love</td>\n",
       "    </tr>\n",
       "    <tr>\n",
       "      <th>377bbe75</th>\n",
       "      <td> 0</td>\n",
       "      <td> IN</td>\n",
       "      <td> </td>\n",
       "      <td> </td>\n",
       "      <td> tt0242509</td>\n",
       "      <td>               Haatim Tai</td>\n",
       "      <td> https://s3-ap-southeast-1.amazonaws.com/cinema...</td>\n",
       "      <td> 0</td>\n",
       "      <td> 1</td>\n",
       "      <td> BOLLYWOOD</td>\n",
       "      <td>1990-04-20</td>\n",
       "      <td> 0</td>\n",
       "      <td> 125</td>\n",
       "      <td>               Haatim Tai</td>\n",
       "    </tr>\n",
       "  </tbody>\n",
       "</table>\n",
       "</div>"
      ],
      "text/plain": [
       "          budget country description genre     imdbid             originaltitle                                         posterpath  rating  ratingcount     region releasedate  revenue  runtime                     title\n",
       "id                                                                                                                                                                                                                        \n",
       "6e94d6ec       0      IN                    tt0246008          Kondaveeti Donga  https://s3-ap-southeast-1.amazonaws.com/cinema...       0            1  BOLLYWOOD  1990-03-09        0        0          Kondaveeti Donga\n",
       "c5d72e04       0      IN                    tt0259877             Bandh Darwaza  https://s3-ap-southeast-1.amazonaws.com/cinema...       0            1  BOLLYWOOD  1990-06-01        0        0             Bandh Darwaza\n",
       "c228b5f0       0      IN                    tt0337650           Jawani Zindabad  https://s3-ap-southeast-1.amazonaws.com/cinema...       0            1  BOLLYWOOD  1990-07-17        0        0           Jawani Zindabad\n",
       "d57f08bc       0      IN                    tt0099080  Baaghi: A Rebel for Love  https://s3-ap-southeast-1.amazonaws.com/cinema...       0            1  BOLLYWOOD  1990-12-11        0        0  Baaghi: A Rebel for Love\n",
       "377bbe75       0      IN                    tt0242509                Haatim Tai  https://s3-ap-southeast-1.amazonaws.com/cinema...       0            1  BOLLYWOOD  1990-04-20        0      125                Haatim Tai"
      ]
     },
     "execution_count": 23,
     "metadata": {},
     "output_type": "execute_result"
    }
   ],
   "source": [
    "movies.head()"
   ]
  },
  {
   "cell_type": "markdown",
   "metadata": {},
   "source": [
    "## Analysis"
   ]
  },
  {
   "cell_type": "markdown",
   "metadata": {},
   "source": [
    "** What are the 25 most rated movies ? **"
   ]
  },
  {
   "cell_type": "code",
   "execution_count": 24,
   "metadata": {
    "collapsed": false
   },
   "outputs": [
    {
     "data": {
      "text/plain": [
       "id\n",
       "e80b298d    Kabhi Khushi Kabhie Gham\n",
       "8a734920                          PK\n",
       "7244b552             My Name Is Khan\n",
       "102eb9f1      Hum Dil De Chuke Sanam\n",
       "c945692d                   Shamitabh\n",
       "0e8b2552                    Rockstar\n",
       "8e7d7d14              Chak de Phatte\n",
       "9848567b                      Ra.One\n",
       "7a06c70c          Always Kabhi Kabhi\n",
       "819042b0                  Dhobi Ghat\n",
       "5dc67561           Shakti: The Power\n",
       "6a82c73f     Bbuddah Hoga Terra Baap\n",
       "efecebda      Hum Tumhare Hain Sanam\n",
       "db6457e6                      Devdas\n",
       "dcc7c8eb                    Saathiya\n",
       "1d9473ca       Hum Kisi Se Kum Nahin\n",
       "24bb9fc4                 Agni Varsha\n",
       "4e7d6459                   Aarakshan\n",
       "cd936015        Mujhse Dosti Karoge!\n",
       "e76c2b7f                  F.A.L.T.U.\n",
       "4de8768c                     Aankhen\n",
       "dafb3923       Jeena Sirf Merre Liye\n",
       "9d4dfbad           Dil Vil Pyar Vyar\n",
       "a15cd99f                        Raaz\n",
       "590f2a40            Dil Hai Tumhaara\n",
       "Name: originaltitle, dtype: object"
      ]
     },
     "execution_count": 24,
     "metadata": {},
     "output_type": "execute_result"
    }
   ],
   "source": [
    "most_rated = movies.sort(columns='ratingcount', ascending=False)[:25].originaltitle\n",
    "most_rated"
   ]
  },
  {
   "cell_type": "markdown",
   "metadata": {},
   "source": [
    "** Which movies are highly rated ? **"
   ]
  },
  {
   "cell_type": "code",
   "execution_count": 25,
   "metadata": {
    "collapsed": false
   },
   "outputs": [
    {
     "data": {
      "text/html": [
       "<div style=\"max-height:1000px;max-width:1500px;overflow:auto;\">\n",
       "<table border=\"1\" class=\"dataframe\">\n",
       "  <thead>\n",
       "    <tr style=\"text-align: right;\">\n",
       "      <th></th>\n",
       "      <th>originaltitle</th>\n",
       "      <th>rating</th>\n",
       "      <th>ratingcount</th>\n",
       "    </tr>\n",
       "    <tr>\n",
       "      <th>id</th>\n",
       "      <th></th>\n",
       "      <th></th>\n",
       "      <th></th>\n",
       "    </tr>\n",
       "  </thead>\n",
       "  <tbody>\n",
       "    <tr>\n",
       "      <th>92ebv8cg</th>\n",
       "      <td> Baahubali: The Beginning</td>\n",
       "      <td> 4.5000</td>\n",
       "      <td> 1000</td>\n",
       "    </tr>\n",
       "    <tr>\n",
       "      <th>e80b298d</th>\n",
       "      <td> Kabhi Khushi Kabhie Gham</td>\n",
       "      <td> 4.3000</td>\n",
       "      <td> 1003</td>\n",
       "    </tr>\n",
       "    <tr>\n",
       "      <th>31ecbe29</th>\n",
       "      <td>           Chak De! India</td>\n",
       "      <td> 4.2000</td>\n",
       "      <td> 1000</td>\n",
       "    </tr>\n",
       "    <tr>\n",
       "      <th>f0372714</th>\n",
       "      <td>       Bhaag Milkha Bhaag</td>\n",
       "      <td> 4.2000</td>\n",
       "      <td> 1000</td>\n",
       "    </tr>\n",
       "    <tr>\n",
       "      <th>8a734920</th>\n",
       "      <td>                       PK</td>\n",
       "      <td> 4.1517</td>\n",
       "      <td> 1002</td>\n",
       "    </tr>\n",
       "  </tbody>\n",
       "</table>\n",
       "</div>"
      ],
      "text/plain": [
       "                     originaltitle  rating  ratingcount\n",
       "id                                                     \n",
       "92ebv8cg  Baahubali: The Beginning  4.5000         1000\n",
       "e80b298d  Kabhi Khushi Kabhie Gham  4.3000         1003\n",
       "31ecbe29            Chak De! India  4.2000         1000\n",
       "f0372714        Bhaag Milkha Bhaag  4.2000         1000\n",
       "8a734920                        PK  4.1517         1002"
      ]
     },
     "execution_count": 25,
     "metadata": {},
     "output_type": "execute_result"
    }
   ],
   "source": [
    "movies_stats = movies.sort(columns='rating', ascending=False)\n",
    "movies_stats[['originaltitle','rating', 'ratingcount']].head()"
   ]
  },
  {
   "cell_type": "code",
   "execution_count": 26,
   "metadata": {
    "collapsed": false
   },
   "outputs": [
    {
     "data": {
      "text/html": [
       "<div style=\"max-height:1000px;max-width:1500px;overflow:auto;\">\n",
       "<table border=\"1\" class=\"dataframe\">\n",
       "  <thead>\n",
       "    <tr style=\"text-align: right;\">\n",
       "      <th></th>\n",
       "      <th>originaltitle</th>\n",
       "      <th>rating</th>\n",
       "      <th>ratingcount</th>\n",
       "    </tr>\n",
       "    <tr>\n",
       "      <th>id</th>\n",
       "      <th></th>\n",
       "      <th></th>\n",
       "      <th></th>\n",
       "    </tr>\n",
       "  </thead>\n",
       "  <tbody>\n",
       "    <tr>\n",
       "      <th>7dfa7e3c</th>\n",
       "      <td>                         Aanai</td>\n",
       "      <td> 0</td>\n",
       "      <td> 1</td>\n",
       "    </tr>\n",
       "    <tr>\n",
       "      <th>3f6fe5fa</th>\n",
       "      <td>                Mumbai Express</td>\n",
       "      <td> 0</td>\n",
       "      <td> 1</td>\n",
       "    </tr>\n",
       "    <tr>\n",
       "      <th>01633b19</th>\n",
       "      <td> Barsaat: A Sublime Love Story</td>\n",
       "      <td> 0</td>\n",
       "      <td> 1</td>\n",
       "    </tr>\n",
       "    <tr>\n",
       "      <th>7c41b536</th>\n",
       "      <td>               Jai Chiranjeeva</td>\n",
       "      <td> 0</td>\n",
       "      <td> 1</td>\n",
       "    </tr>\n",
       "    <tr>\n",
       "      <th>19cc5620</th>\n",
       "      <td>                          வேல்</td>\n",
       "      <td> 0</td>\n",
       "      <td> 1</td>\n",
       "    </tr>\n",
       "  </tbody>\n",
       "</table>\n",
       "</div>"
      ],
      "text/plain": [
       "                          originaltitle  rating  ratingcount\n",
       "id                                                          \n",
       "7dfa7e3c                          Aanai       0            1\n",
       "3f6fe5fa                 Mumbai Express       0            1\n",
       "01633b19  Barsaat: A Sublime Love Story       0            1\n",
       "7c41b536                Jai Chiranjeeva       0            1\n",
       "19cc5620                           வேல்       0            1"
      ]
     },
     "execution_count": 26,
     "metadata": {},
     "output_type": "execute_result"
    }
   ],
   "source": [
    "movies_stats[['originaltitle','rating', 'ratingcount']].tail()"
   ]
  },
  {
   "cell_type": "code",
   "execution_count": 27,
   "metadata": {
    "collapsed": true
   },
   "outputs": [],
   "source": [
    "# so there are many movies which are rated so rarely."
   ]
  },
  {
   "cell_type": "markdown",
   "metadata": {},
   "source": [
    "** Genre of top 50 most rated movies **"
   ]
  },
  {
   "cell_type": "code",
   "execution_count": 28,
   "metadata": {
    "collapsed": false
   },
   "outputs": [
    {
     "data": {
      "text/html": [
       "<div style=\"max-height:1000px;max-width:1500px;overflow:auto;\">\n",
       "<table border=\"1\" class=\"dataframe\">\n",
       "  <thead>\n",
       "    <tr style=\"text-align: right;\">\n",
       "      <th></th>\n",
       "      <th>originaltitle</th>\n",
       "      <th>genre</th>\n",
       "      <th>rating</th>\n",
       "      <th>ratingcount</th>\n",
       "    </tr>\n",
       "    <tr>\n",
       "      <th>id</th>\n",
       "      <th></th>\n",
       "      <th></th>\n",
       "      <th></th>\n",
       "      <th></th>\n",
       "    </tr>\n",
       "  </thead>\n",
       "  <tbody>\n",
       "    <tr>\n",
       "      <th>92ebv8cg</th>\n",
       "      <td>             Baahubali: The Beginning</td>\n",
       "      <td>         </td>\n",
       "      <td> 4.5000</td>\n",
       "      <td> 1000</td>\n",
       "    </tr>\n",
       "    <tr>\n",
       "      <th>e80b298d</th>\n",
       "      <td>             Kabhi Khushi Kabhie Gham</td>\n",
       "      <td>   Family</td>\n",
       "      <td> 4.3000</td>\n",
       "      <td> 1003</td>\n",
       "    </tr>\n",
       "    <tr>\n",
       "      <th>31ecbe29</th>\n",
       "      <td>                       Chak De! India</td>\n",
       "      <td>         </td>\n",
       "      <td> 4.2000</td>\n",
       "      <td> 1000</td>\n",
       "    </tr>\n",
       "    <tr>\n",
       "      <th>f0372714</th>\n",
       "      <td>                   Bhaag Milkha Bhaag</td>\n",
       "      <td>         </td>\n",
       "      <td> 4.2000</td>\n",
       "      <td> 1000</td>\n",
       "    </tr>\n",
       "    <tr>\n",
       "      <th>8a734920</th>\n",
       "      <td>                                   PK</td>\n",
       "      <td>         </td>\n",
       "      <td> 4.1517</td>\n",
       "      <td> 1002</td>\n",
       "    </tr>\n",
       "    <tr>\n",
       "      <th>f0884eea</th>\n",
       "      <td>                 Kabhi Haan Kabhi Naa</td>\n",
       "      <td>         </td>\n",
       "      <td> 4.1500</td>\n",
       "      <td> 1000</td>\n",
       "    </tr>\n",
       "    <tr>\n",
       "      <th>cfaacb28</th>\n",
       "      <td>                               Swades</td>\n",
       "      <td>         </td>\n",
       "      <td> 4.1500</td>\n",
       "      <td> 1000</td>\n",
       "    </tr>\n",
       "    <tr>\n",
       "      <th>aa2f3825</th>\n",
       "      <td>                                Black</td>\n",
       "      <td>         </td>\n",
       "      <td> 4.1500</td>\n",
       "      <td> 1000</td>\n",
       "    </tr>\n",
       "    <tr>\n",
       "      <th>c89fb5d8</th>\n",
       "      <td>          Dilwale Dulhania Le Jayenge</td>\n",
       "      <td>         </td>\n",
       "      <td> 4.1500</td>\n",
       "      <td> 1000</td>\n",
       "    </tr>\n",
       "    <tr>\n",
       "      <th>9c731eb3</th>\n",
       "      <td>    Lagaan: Once Upon a Time in India</td>\n",
       "      <td>         </td>\n",
       "      <td> 4.1000</td>\n",
       "      <td> 1000</td>\n",
       "    </tr>\n",
       "    <tr>\n",
       "      <th>54725235</th>\n",
       "      <td>                                 Ugly</td>\n",
       "      <td>         </td>\n",
       "      <td> 4.1000</td>\n",
       "      <td> 1000</td>\n",
       "    </tr>\n",
       "    <tr>\n",
       "      <th>20b32b7c</th>\n",
       "      <td>                                Manam</td>\n",
       "      <td>         </td>\n",
       "      <td> 4.1000</td>\n",
       "      <td> 1000</td>\n",
       "    </tr>\n",
       "    <tr>\n",
       "      <th>ca234902</th>\n",
       "      <td>                          The Warrior</td>\n",
       "      <td>         </td>\n",
       "      <td> 4.1000</td>\n",
       "      <td> 1000</td>\n",
       "    </tr>\n",
       "    <tr>\n",
       "      <th>e8ea416d</th>\n",
       "      <td>                               Barfi!</td>\n",
       "      <td>         </td>\n",
       "      <td> 4.1000</td>\n",
       "      <td> 1000</td>\n",
       "    </tr>\n",
       "    <tr>\n",
       "      <th>b56dd267</th>\n",
       "      <td>                              Maqbool</td>\n",
       "      <td>         </td>\n",
       "      <td> 4.1000</td>\n",
       "      <td> 1000</td>\n",
       "    </tr>\n",
       "    <tr>\n",
       "      <th>cc4c2c1c</th>\n",
       "      <td>                        Kal Ho Naa Ho</td>\n",
       "      <td>         </td>\n",
       "      <td> 4.0500</td>\n",
       "      <td> 1000</td>\n",
       "    </tr>\n",
       "    <tr>\n",
       "      <th>6233452b</th>\n",
       "      <td>                              Hey Ram</td>\n",
       "      <td>         </td>\n",
       "      <td> 4.0000</td>\n",
       "      <td> 1000</td>\n",
       "    </tr>\n",
       "    <tr>\n",
       "      <th>c71855ed</th>\n",
       "      <td>                                 Daar</td>\n",
       "      <td>         </td>\n",
       "      <td> 4.0000</td>\n",
       "      <td> 1000</td>\n",
       "    </tr>\n",
       "    <tr>\n",
       "      <th>7244b552</th>\n",
       "      <td>                      My Name Is Khan</td>\n",
       "      <td>         </td>\n",
       "      <td> 4.0000</td>\n",
       "      <td> 1002</td>\n",
       "    </tr>\n",
       "    <tr>\n",
       "      <th>1682a009</th>\n",
       "      <td>                      Ab Tak Chhappan</td>\n",
       "      <td>         </td>\n",
       "      <td> 4.0000</td>\n",
       "      <td> 1000</td>\n",
       "    </tr>\n",
       "    <tr>\n",
       "      <th>7a62ff7c</th>\n",
       "      <td>                                  Dor</td>\n",
       "      <td>         </td>\n",
       "      <td> 4.0000</td>\n",
       "      <td> 1000</td>\n",
       "    </tr>\n",
       "    <tr>\n",
       "      <th>26f6e8f4</th>\n",
       "      <td>                         Bhaag Johnny</td>\n",
       "      <td> Thriller</td>\n",
       "      <td> 4.0000</td>\n",
       "      <td>   32</td>\n",
       "    </tr>\n",
       "    <tr>\n",
       "      <th>344f1455</th>\n",
       "      <td> Dr. Prakash Baba Amte: The Real Hero</td>\n",
       "      <td>         </td>\n",
       "      <td> 4.0000</td>\n",
       "      <td> 1000</td>\n",
       "    </tr>\n",
       "    <tr>\n",
       "      <th>00d594de</th>\n",
       "      <td>                       Johnny Gaddaar</td>\n",
       "      <td>         </td>\n",
       "      <td> 4.0000</td>\n",
       "      <td> 1000</td>\n",
       "    </tr>\n",
       "    <tr>\n",
       "      <th>b33a45da</th>\n",
       "      <td>                  Slumdog Millionaire</td>\n",
       "      <td>         </td>\n",
       "      <td> 4.0000</td>\n",
       "      <td> 1000</td>\n",
       "    </tr>\n",
       "    <tr>\n",
       "      <th>4886cff0</th>\n",
       "      <td>                                 Darr</td>\n",
       "      <td>         </td>\n",
       "      <td> 4.0000</td>\n",
       "      <td> 1000</td>\n",
       "    </tr>\n",
       "    <tr>\n",
       "      <th>bfd775e6</th>\n",
       "      <td>                       Carry on Jatta</td>\n",
       "      <td>         </td>\n",
       "      <td> 3.9500</td>\n",
       "      <td> 1000</td>\n",
       "    </tr>\n",
       "    <tr>\n",
       "      <th>ab0b974d</th>\n",
       "      <td>            Prahaar: The Final Attack</td>\n",
       "      <td>         </td>\n",
       "      <td> 3.9500</td>\n",
       "      <td> 1000</td>\n",
       "    </tr>\n",
       "    <tr>\n",
       "      <th>3d7a80c6</th>\n",
       "      <td>                              Lakshya</td>\n",
       "      <td>         </td>\n",
       "      <td> 3.9500</td>\n",
       "      <td> 1000</td>\n",
       "    </tr>\n",
       "    <tr>\n",
       "      <th>529b0258</th>\n",
       "      <td>                            Rock On!!</td>\n",
       "      <td>         </td>\n",
       "      <td> 3.9500</td>\n",
       "      <td> 1000</td>\n",
       "    </tr>\n",
       "    <tr>\n",
       "      <th>0fd4f35d</th>\n",
       "      <td>                           Veer-Zaara</td>\n",
       "      <td>         </td>\n",
       "      <td> 3.9500</td>\n",
       "      <td> 1000</td>\n",
       "    </tr>\n",
       "    <tr>\n",
       "      <th>4204161f</th>\n",
       "      <td>                             Baazigar</td>\n",
       "      <td>         </td>\n",
       "      <td> 3.9500</td>\n",
       "      <td> 1000</td>\n",
       "    </tr>\n",
       "    <tr>\n",
       "      <th>f3ddc022</th>\n",
       "      <td>                          Vicky Donor</td>\n",
       "      <td>         </td>\n",
       "      <td> 3.9000</td>\n",
       "      <td> 1000</td>\n",
       "    </tr>\n",
       "    <tr>\n",
       "      <th>9219de2a</th>\n",
       "      <td>                   Kuch Kuch Hota Hai</td>\n",
       "      <td>         </td>\n",
       "      <td> 3.9000</td>\n",
       "      <td> 1000</td>\n",
       "    </tr>\n",
       "    <tr>\n",
       "      <th>b857dd5d</th>\n",
       "      <td>                                Water</td>\n",
       "      <td>         </td>\n",
       "      <td> 3.9000</td>\n",
       "      <td> 1000</td>\n",
       "    </tr>\n",
       "    <tr>\n",
       "      <th>5f2537d9</th>\n",
       "      <td>                               Sarkar</td>\n",
       "      <td>         </td>\n",
       "      <td> 3.9000</td>\n",
       "      <td> 1000</td>\n",
       "    </tr>\n",
       "    <tr>\n",
       "      <th>982c627b</th>\n",
       "      <td>                               Damini</td>\n",
       "      <td>         </td>\n",
       "      <td> 3.9000</td>\n",
       "      <td> 1000</td>\n",
       "    </tr>\n",
       "    <tr>\n",
       "      <th>6ed93c19</th>\n",
       "      <td>                                Dabba</td>\n",
       "      <td>         </td>\n",
       "      <td> 3.9000</td>\n",
       "      <td> 1000</td>\n",
       "    </tr>\n",
       "    <tr>\n",
       "      <th>4343c825</th>\n",
       "      <td>                          Zinda Bhaag</td>\n",
       "      <td>         </td>\n",
       "      <td> 3.9000</td>\n",
       "      <td> 1000</td>\n",
       "    </tr>\n",
       "    <tr>\n",
       "      <th>48cfbe1e</th>\n",
       "      <td>            Detective Byomkesh Bakshy</td>\n",
       "      <td>         </td>\n",
       "      <td> 3.9000</td>\n",
       "      <td> 1000</td>\n",
       "    </tr>\n",
       "    <tr>\n",
       "      <th>f849e58f</th>\n",
       "      <td>                          Madras Cafe</td>\n",
       "      <td>         </td>\n",
       "      <td> 3.9000</td>\n",
       "      <td> 1000</td>\n",
       "    </tr>\n",
       "    <tr>\n",
       "      <th>dd79c47e</th>\n",
       "      <td>                            Agneepath</td>\n",
       "      <td>   Action</td>\n",
       "      <td> 3.9000</td>\n",
       "      <td> 1000</td>\n",
       "    </tr>\n",
       "    <tr>\n",
       "      <th>c2a62f1e</th>\n",
       "      <td>                            Dil Se...</td>\n",
       "      <td>         </td>\n",
       "      <td> 3.9000</td>\n",
       "      <td> 1000</td>\n",
       "    </tr>\n",
       "    <tr>\n",
       "      <th>ba33e155</th>\n",
       "      <td>                        Celluloid Man</td>\n",
       "      <td>   Action</td>\n",
       "      <td> 3.8500</td>\n",
       "      <td> 1000</td>\n",
       "    </tr>\n",
       "    <tr>\n",
       "      <th>c1894563</th>\n",
       "      <td>                          Kai Po Che!</td>\n",
       "      <td>         </td>\n",
       "      <td> 3.8500</td>\n",
       "      <td> 1000</td>\n",
       "    </tr>\n",
       "    <tr>\n",
       "      <th>3f1b62c1</th>\n",
       "      <td>               Dr. Babasaheb Ambedkar</td>\n",
       "      <td>         </td>\n",
       "      <td> 3.8500</td>\n",
       "      <td> 1000</td>\n",
       "    </tr>\n",
       "    <tr>\n",
       "      <th>1c20c038</th>\n",
       "      <td>                  Hum Aapke Hain Koun</td>\n",
       "      <td>         </td>\n",
       "      <td> 3.8500</td>\n",
       "      <td> 1000</td>\n",
       "    </tr>\n",
       "    <tr>\n",
       "      <th>1eb69cf7</th>\n",
       "      <td>                                 Piku</td>\n",
       "      <td>         </td>\n",
       "      <td> 3.8500</td>\n",
       "      <td> 1000</td>\n",
       "    </tr>\n",
       "    <tr>\n",
       "      <th>102eb9f1</th>\n",
       "      <td>               Hum Dil De Chuke Sanam</td>\n",
       "      <td>         </td>\n",
       "      <td> 3.8002</td>\n",
       "      <td> 1001</td>\n",
       "    </tr>\n",
       "    <tr>\n",
       "      <th>4acf90af</th>\n",
       "      <td>                              Highway</td>\n",
       "      <td>   Action</td>\n",
       "      <td> 3.8000</td>\n",
       "      <td> 1000</td>\n",
       "    </tr>\n",
       "  </tbody>\n",
       "</table>\n",
       "</div>"
      ],
      "text/plain": [
       "                                 originaltitle     genre  rating  ratingcount\n",
       "id                                                                           \n",
       "92ebv8cg              Baahubali: The Beginning            4.5000         1000\n",
       "e80b298d              Kabhi Khushi Kabhie Gham    Family  4.3000         1003\n",
       "31ecbe29                        Chak De! India            4.2000         1000\n",
       "f0372714                    Bhaag Milkha Bhaag            4.2000         1000\n",
       "8a734920                                    PK            4.1517         1002\n",
       "f0884eea                  Kabhi Haan Kabhi Naa            4.1500         1000\n",
       "cfaacb28                                Swades            4.1500         1000\n",
       "aa2f3825                                 Black            4.1500         1000\n",
       "c89fb5d8           Dilwale Dulhania Le Jayenge            4.1500         1000\n",
       "9c731eb3     Lagaan: Once Upon a Time in India            4.1000         1000\n",
       "54725235                                  Ugly            4.1000         1000\n",
       "20b32b7c                                 Manam            4.1000         1000\n",
       "ca234902                           The Warrior            4.1000         1000\n",
       "e8ea416d                                Barfi!            4.1000         1000\n",
       "b56dd267                               Maqbool            4.1000         1000\n",
       "cc4c2c1c                         Kal Ho Naa Ho            4.0500         1000\n",
       "6233452b                               Hey Ram            4.0000         1000\n",
       "c71855ed                                  Daar            4.0000         1000\n",
       "7244b552                       My Name Is Khan            4.0000         1002\n",
       "1682a009                       Ab Tak Chhappan            4.0000         1000\n",
       "7a62ff7c                                   Dor            4.0000         1000\n",
       "26f6e8f4                          Bhaag Johnny  Thriller  4.0000           32\n",
       "344f1455  Dr. Prakash Baba Amte: The Real Hero            4.0000         1000\n",
       "00d594de                        Johnny Gaddaar            4.0000         1000\n",
       "b33a45da                   Slumdog Millionaire            4.0000         1000\n",
       "4886cff0                                  Darr            4.0000         1000\n",
       "bfd775e6                        Carry on Jatta            3.9500         1000\n",
       "ab0b974d             Prahaar: The Final Attack            3.9500         1000\n",
       "3d7a80c6                               Lakshya            3.9500         1000\n",
       "529b0258                             Rock On!!            3.9500         1000\n",
       "0fd4f35d                            Veer-Zaara            3.9500         1000\n",
       "4204161f                              Baazigar            3.9500         1000\n",
       "f3ddc022                           Vicky Donor            3.9000         1000\n",
       "9219de2a                    Kuch Kuch Hota Hai            3.9000         1000\n",
       "b857dd5d                                 Water            3.9000         1000\n",
       "5f2537d9                                Sarkar            3.9000         1000\n",
       "982c627b                                Damini            3.9000         1000\n",
       "6ed93c19                                 Dabba            3.9000         1000\n",
       "4343c825                           Zinda Bhaag            3.9000         1000\n",
       "48cfbe1e             Detective Byomkesh Bakshy            3.9000         1000\n",
       "f849e58f                           Madras Cafe            3.9000         1000\n",
       "dd79c47e                             Agneepath    Action  3.9000         1000\n",
       "c2a62f1e                             Dil Se...            3.9000         1000\n",
       "ba33e155                         Celluloid Man    Action  3.8500         1000\n",
       "c1894563                           Kai Po Che!            3.8500         1000\n",
       "3f1b62c1                Dr. Babasaheb Ambedkar            3.8500         1000\n",
       "1c20c038                   Hum Aapke Hain Koun            3.8500         1000\n",
       "1eb69cf7                                  Piku            3.8500         1000\n",
       "102eb9f1                Hum Dil De Chuke Sanam            3.8002         1001\n",
       "4acf90af                               Highway    Action  3.8000         1000"
      ]
     },
     "execution_count": 28,
     "metadata": {},
     "output_type": "execute_result"
    }
   ],
   "source": [
    "movies_stats[['originaltitle','genre','rating', 'ratingcount']].head(50)"
   ]
  },
  {
   "cell_type": "markdown",
   "metadata": {},
   "source": [
    "### Many of the top rated movies are missing information for genre. Many of the top rated movies have a suspiciously same rating count of 1000, maybe it is capped  for some reasons ?"
   ]
  },
  {
   "cell_type": "markdown",
   "metadata": {},
   "source": [
    "** Relationship between ratings and budget **"
   ]
  },
  {
   "cell_type": "code",
   "execution_count": 29,
   "metadata": {
    "collapsed": true
   },
   "outputs": [],
   "source": [
    "# noticed that there are many movies with budget value reported to be 0\n",
    "# lets remove those movies\n",
    "\n",
    "budget_non_zero = movies[movies.budget > 0]"
   ]
  },
  {
   "cell_type": "code",
   "execution_count": 30,
   "metadata": {
    "collapsed": false
   },
   "outputs": [
    {
     "data": {
      "image/png": "[encoded data removed]",
      "text/plain": [
       "<matplotlib.figure.Figure at 0x10b7fff90>"
      ]
     },
     "metadata": {},
     "output_type": "display_data"
    }
   ],
   "source": [
    "budget_non_zero.plot(x='budget', y='rating', kind='scatter', \n",
    "                     title='Relationship between budget and ratings',logx=True);"
   ]
  },
  {
   "cell_type": "markdown",
   "metadata": {},
   "source": [
    "** Surprisingly there are many movies that score zero rating despite having huge budget, let's take a look at them **"
   ]
  },
  {
   "cell_type": "code",
   "execution_count": 31,
   "metadata": {
    "collapsed": true
   },
   "outputs": [],
   "source": [
    "big_flops = movies[(movies.budget > 0) & (movies.rating == 0)]"
   ]
  },
  {
   "cell_type": "code",
   "execution_count": 32,
   "metadata": {
    "collapsed": false
   },
   "outputs": [
    {
     "data": {
      "text/html": [
       "<div style=\"max-height:1000px;max-width:1500px;overflow:auto;\">\n",
       "<table border=\"1\" class=\"dataframe\">\n",
       "  <thead>\n",
       "    <tr style=\"text-align: right;\">\n",
       "      <th></th>\n",
       "      <th>budget</th>\n",
       "      <th>country</th>\n",
       "      <th>description</th>\n",
       "      <th>genre</th>\n",
       "      <th>imdbid</th>\n",
       "      <th>originaltitle</th>\n",
       "      <th>posterpath</th>\n",
       "      <th>rating</th>\n",
       "      <th>ratingcount</th>\n",
       "      <th>region</th>\n",
       "      <th>releasedate</th>\n",
       "      <th>revenue</th>\n",
       "      <th>runtime</th>\n",
       "      <th>title</th>\n",
       "    </tr>\n",
       "    <tr>\n",
       "      <th>id</th>\n",
       "      <th></th>\n",
       "      <th></th>\n",
       "      <th></th>\n",
       "      <th></th>\n",
       "      <th></th>\n",
       "      <th></th>\n",
       "      <th></th>\n",
       "      <th></th>\n",
       "      <th></th>\n",
       "      <th></th>\n",
       "      <th></th>\n",
       "      <th></th>\n",
       "      <th></th>\n",
       "      <th></th>\n",
       "    </tr>\n",
       "  </thead>\n",
       "  <tbody>\n",
       "    <tr>\n",
       "      <th>7f9c2443</th>\n",
       "      <td> 27000000</td>\n",
       "      <td> IN</td>\n",
       "      <td> </td>\n",
       "      <td> </td>\n",
       "      <td> tt0103976</td>\n",
       "      <td>                 City of Joy</td>\n",
       "      <td> https://s3-ap-southeast-1.amazonaws.com/cinema...</td>\n",
       "      <td> 0</td>\n",
       "      <td> 1</td>\n",
       "      <td> BOLLYWOOD</td>\n",
       "      <td>1992-04-15</td>\n",
       "      <td> 14683921</td>\n",
       "      <td> 132</td>\n",
       "      <td>                 City of Joy</td>\n",
       "    </tr>\n",
       "    <tr>\n",
       "      <th>a6ba7e09</th>\n",
       "      <td>       70</td>\n",
       "      <td> IN</td>\n",
       "      <td> </td>\n",
       "      <td> </td>\n",
       "      <td> tt0111742</td>\n",
       "      <td>                        Wolf</td>\n",
       "      <td> https://s3-ap-southeast-1.amazonaws.com/cinema...</td>\n",
       "      <td> 0</td>\n",
       "      <td> 1</td>\n",
       "      <td> BOLLYWOOD</td>\n",
       "      <td>1994-06-17</td>\n",
       "      <td>      131</td>\n",
       "      <td> 125</td>\n",
       "      <td>                        Wolf</td>\n",
       "    </tr>\n",
       "    <tr>\n",
       "      <th>6052f948</th>\n",
       "      <td> 11000000</td>\n",
       "      <td> IN</td>\n",
       "      <td> </td>\n",
       "      <td> </td>\n",
       "      <td> tt0114113</td>\n",
       "      <td>            The Perez Family</td>\n",
       "      <td> https://s3-ap-southeast-1.amazonaws.com/cinema...</td>\n",
       "      <td> 0</td>\n",
       "      <td> 1</td>\n",
       "      <td> BOLLYWOOD</td>\n",
       "      <td>1995-05-12</td>\n",
       "      <td>  2832826</td>\n",
       "      <td> 113</td>\n",
       "      <td>            The Perez Family</td>\n",
       "    </tr>\n",
       "    <tr>\n",
       "      <th>a2f05ec6</th>\n",
       "      <td>  3000000</td>\n",
       "      <td> IN</td>\n",
       "      <td> </td>\n",
       "      <td> </td>\n",
       "      <td> tt0116743</td>\n",
       "      <td> Kama Sutra - A Tale of Love</td>\n",
       "      <td> https://s3-ap-southeast-1.amazonaws.com/cinema...</td>\n",
       "      <td> 0</td>\n",
       "      <td> 1</td>\n",
       "      <td> BOLLYWOOD</td>\n",
       "      <td>1996-09-11</td>\n",
       "      <td>  4109095</td>\n",
       "      <td> 117</td>\n",
       "      <td> Kama Sutra - A Tale of Love</td>\n",
       "    </tr>\n",
       "    <tr>\n",
       "      <th>750dc0cf</th>\n",
       "      <td> 30000000</td>\n",
       "      <td> IN</td>\n",
       "      <td> </td>\n",
       "      <td> </td>\n",
       "      <td> tt0127536</td>\n",
       "      <td>                   Elizabeth</td>\n",
       "      <td> https://s3-ap-southeast-1.amazonaws.com/cinema...</td>\n",
       "      <td> 0</td>\n",
       "      <td> 1</td>\n",
       "      <td> BOLLYWOOD</td>\n",
       "      <td>1998-09-13</td>\n",
       "      <td> 82102070</td>\n",
       "      <td> 124</td>\n",
       "      <td>                   Elizabeth</td>\n",
       "    </tr>\n",
       "  </tbody>\n",
       "</table>\n",
       "</div>"
      ],
      "text/plain": [
       "            budget country description genre     imdbid                originaltitle                                         posterpath  rating  ratingcount     region releasedate   revenue  runtime                        title\n",
       "id                                                                                                                                                                                                                                 \n",
       "7f9c2443  27000000      IN                    tt0103976                  City of Joy  https://s3-ap-southeast-1.amazonaws.com/cinema...       0            1  BOLLYWOOD  1992-04-15  14683921      132                  City of Joy\n",
       "a6ba7e09        70      IN                    tt0111742                         Wolf  https://s3-ap-southeast-1.amazonaws.com/cinema...       0            1  BOLLYWOOD  1994-06-17       131      125                         Wolf\n",
       "6052f948  11000000      IN                    tt0114113             The Perez Family  https://s3-ap-southeast-1.amazonaws.com/cinema...       0            1  BOLLYWOOD  1995-05-12   2832826      113             The Perez Family\n",
       "a2f05ec6   3000000      IN                    tt0116743  Kama Sutra - A Tale of Love  https://s3-ap-southeast-1.amazonaws.com/cinema...       0            1  BOLLYWOOD  1996-09-11   4109095      117  Kama Sutra - A Tale of Love\n",
       "750dc0cf  30000000      IN                    tt0127536                    Elizabeth  https://s3-ap-southeast-1.amazonaws.com/cinema...       0            1  BOLLYWOOD  1998-09-13  82102070      124                    Elizabeth"
      ]
     },
     "execution_count": 32,
     "metadata": {},
     "output_type": "execute_result"
    }
   ],
   "source": [
    "big_flops.head()"
   ]
  },
  {
   "cell_type": "markdown",
   "metadata": {},
   "source": [
    "** They have bad rating because not many people rated them **"
   ]
  },
  {
   "cell_type": "code",
   "execution_count": 33,
   "metadata": {
    "collapsed": true
   },
   "outputs": [],
   "source": [
    "# ok so lets take a look at those movies which have been rated atleast 100 times.\n",
    "atleast_100 = movies[movies.ratingcount > 100]"
   ]
  },
  {
   "cell_type": "code",
   "execution_count": 34,
   "metadata": {
    "collapsed": false
   },
   "outputs": [],
   "source": [
    "atleast_100_budget_non_zero = atleast_100[atleast_100.budget > 0]"
   ]
  },
  {
   "cell_type": "code",
   "execution_count": 35,
   "metadata": {
    "collapsed": false
   },
   "outputs": [
    {
     "data": {
      "image/png": "[encoded data removed]",
      "text/plain": [
       "<matplotlib.figure.Figure at 0x10b8b4690>"
      ]
     },
     "metadata": {},
     "output_type": "display_data"
    }
   ],
   "source": [
    "# let's revisit our question of how budget affects ratings ?\n",
    "atleast_100_budget_non_zero.plot(x='budget', y='rating', kind='scatter',\n",
    "                 title='Relationship between budget and ratings', logx=True)\n",
    "plt.xlabel('Budget (Rupees)')\n",
    "plt.ylabel('Ratings [0 - 5]');"
   ]
  },
  {
   "cell_type": "markdown",
   "metadata": {},
   "source": [
    "** So as we can see budget and rating have a kind of linear relationship, if you throw big money your ratings will soar, but there are certain outliers, there are movies with decent ratings and a low enough budget and there are movies with very low ratings and an enormous budget, let's look into that **"
   ]
  },
  {
   "cell_type": "code",
   "execution_count": 38,
   "metadata": {
    "collapsed": true
   },
   "outputs": [],
   "source": [
    "mask = ((atleast_100_budget_non_zero.budget < 1e2) & (atleast_100_budget_non_zero.rating > 2))\n",
    "quite_a_success = atleast_100_budget_non_zero[mask]"
   ]
  },
  {
   "cell_type": "code",
   "execution_count": 39,
   "metadata": {
    "collapsed": false
   },
   "outputs": [
    {
     "data": {
      "text/html": [
       "<div style=\"max-height:1000px;max-width:1500px;overflow:auto;\">\n",
       "<table border=\"1\" class=\"dataframe\">\n",
       "  <thead>\n",
       "    <tr style=\"text-align: right;\">\n",
       "      <th></th>\n",
       "      <th>budget</th>\n",
       "      <th>country</th>\n",
       "      <th>description</th>\n",
       "      <th>genre</th>\n",
       "      <th>imdbid</th>\n",
       "      <th>originaltitle</th>\n",
       "      <th>posterpath</th>\n",
       "      <th>rating</th>\n",
       "      <th>ratingcount</th>\n",
       "      <th>region</th>\n",
       "      <th>releasedate</th>\n",
       "      <th>revenue</th>\n",
       "      <th>runtime</th>\n",
       "      <th>title</th>\n",
       "    </tr>\n",
       "    <tr>\n",
       "      <th>id</th>\n",
       "      <th></th>\n",
       "      <th></th>\n",
       "      <th></th>\n",
       "      <th></th>\n",
       "      <th></th>\n",
       "      <th></th>\n",
       "      <th></th>\n",
       "      <th></th>\n",
       "      <th></th>\n",
       "      <th></th>\n",
       "      <th></th>\n",
       "      <th></th>\n",
       "      <th></th>\n",
       "      <th></th>\n",
       "    </tr>\n",
       "  </thead>\n",
       "  <tbody>\n",
       "    <tr>\n",
       "      <th>0cae8726</th>\n",
       "      <td> 75</td>\n",
       "      <td> IN</td>\n",
       "      <td> in Mumbai, India, beautiful middle-class Jhanv...</td>\n",
       "      <td>       </td>\n",
       "      <td> tt1084972</td>\n",
       "      <td>         Wanted</td>\n",
       "      <td> https://s3-ap-southeast-1.amazonaws.com/cinema...</td>\n",
       "      <td> 3.35</td>\n",
       "      <td> 1000</td>\n",
       "      <td> BOLLYWOOD</td>\n",
       "      <td>2009-09-18</td>\n",
       "      <td> 134</td>\n",
       "      <td>   0</td>\n",
       "      <td>         Wanted</td>\n",
       "    </tr>\n",
       "    <tr>\n",
       "      <th>9b0d979f</th>\n",
       "      <td> 12</td>\n",
       "      <td> IN</td>\n",
       "      <td> A series of cover-ups and comic situations occ...</td>\n",
       "      <td> Action</td>\n",
       "      <td> tt1728986</td>\n",
       "      <td>   Bol Bachchan</td>\n",
       "      <td> https://s3-ap-southeast-1.amazonaws.com/cinema...</td>\n",
       "      <td> 2.75</td>\n",
       "      <td> 1000</td>\n",
       "      <td> BOLLYWOOD</td>\n",
       "      <td>2012-07-06</td>\n",
       "      <td>  17</td>\n",
       "      <td> 155</td>\n",
       "      <td>   Bol Bachchan</td>\n",
       "    </tr>\n",
       "    <tr>\n",
       "      <th>0de1888f</th>\n",
       "      <td> 20</td>\n",
       "      <td> IN</td>\n",
       "      <td> Six would-be thieves enter a prestigious dance...</td>\n",
       "      <td>       </td>\n",
       "      <td> tt2461132</td>\n",
       "      <td> Happy New Year</td>\n",
       "      <td> https://s3-ap-southeast-1.amazonaws.com/cinema...</td>\n",
       "      <td> 2.75</td>\n",
       "      <td> 1000</td>\n",
       "      <td> BOLLYWOOD</td>\n",
       "      <td>2014-10-23</td>\n",
       "      <td>  53</td>\n",
       "      <td> 180</td>\n",
       "      <td> Happy New Year</td>\n",
       "    </tr>\n",
       "  </tbody>\n",
       "</table>\n",
       "</div>"
      ],
      "text/plain": [
       "          budget country                                        description   genre     imdbid   originaltitle                                         posterpath  rating  ratingcount     region releasedate  revenue  runtime           title\n",
       "id                                                                                                                                                                                                                                             \n",
       "0cae8726      75      IN  in Mumbai, India, beautiful middle-class Jhanv...          tt1084972          Wanted  https://s3-ap-southeast-1.amazonaws.com/cinema...    3.35         1000  BOLLYWOOD  2009-09-18      134        0          Wanted\n",
       "9b0d979f      12      IN  A series of cover-ups and comic situations occ...  Action  tt1728986    Bol Bachchan  https://s3-ap-southeast-1.amazonaws.com/cinema...    2.75         1000  BOLLYWOOD  2012-07-06       17      155    Bol Bachchan\n",
       "0de1888f      20      IN  Six would-be thieves enter a prestigious dance...          tt2461132  Happy New Year  https://s3-ap-southeast-1.amazonaws.com/cinema...    2.75         1000  BOLLYWOOD  2014-10-23       53      180  Happy New Year"
      ]
     },
     "execution_count": 39,
     "metadata": {},
     "output_type": "execute_result"
    }
   ],
   "source": [
    "quite_a_success.head()"
   ]
  },
  {
   "cell_type": "code",
   "execution_count": 40,
   "metadata": {
    "collapsed": true
   },
   "outputs": [],
   "source": [
    "# Ah! the budget has not reported correctly for this movie, we need to see how to deal with this movie\n",
    "# a) to remove it.\n",
    "# b) correct the entry.\n",
    "# c) derive some new statistic from it."
   ]
  },
  {
   "cell_type": "code",
   "execution_count": 41,
   "metadata": {
    "collapsed": false
   },
   "outputs": [
    {
     "data": {
      "text/html": [
       "<div style=\"max-height:1000px;max-width:1500px;overflow:auto;\">\n",
       "<table border=\"1\" class=\"dataframe\">\n",
       "  <thead>\n",
       "    <tr style=\"text-align: right;\">\n",
       "      <th></th>\n",
       "      <th>budget</th>\n",
       "      <th>country</th>\n",
       "      <th>description</th>\n",
       "      <th>genre</th>\n",
       "      <th>imdbid</th>\n",
       "      <th>originaltitle</th>\n",
       "      <th>posterpath</th>\n",
       "      <th>rating</th>\n",
       "      <th>ratingcount</th>\n",
       "      <th>region</th>\n",
       "      <th>releasedate</th>\n",
       "      <th>revenue</th>\n",
       "      <th>runtime</th>\n",
       "      <th>title</th>\n",
       "    </tr>\n",
       "    <tr>\n",
       "      <th>id</th>\n",
       "      <th></th>\n",
       "      <th></th>\n",
       "      <th></th>\n",
       "      <th></th>\n",
       "      <th></th>\n",
       "      <th></th>\n",
       "      <th></th>\n",
       "      <th></th>\n",
       "      <th></th>\n",
       "      <th></th>\n",
       "      <th></th>\n",
       "      <th></th>\n",
       "      <th></th>\n",
       "      <th></th>\n",
       "    </tr>\n",
       "  </thead>\n",
       "  <tbody>\n",
       "    <tr>\n",
       "      <th>0cae8726</th>\n",
       "      <td> 75</td>\n",
       "      <td> IN</td>\n",
       "      <td> in Mumbai, India, beautiful middle-class Jhanv...</td>\n",
       "      <td>       </td>\n",
       "      <td> tt1084972</td>\n",
       "      <td>         Wanted</td>\n",
       "      <td> https://s3-ap-southeast-1.amazonaws.com/cinema...</td>\n",
       "      <td> 3.35</td>\n",
       "      <td> 1000</td>\n",
       "      <td> BOLLYWOOD</td>\n",
       "      <td>2009-09-18</td>\n",
       "      <td> 134</td>\n",
       "      <td>   0</td>\n",
       "      <td>         Wanted</td>\n",
       "    </tr>\n",
       "    <tr>\n",
       "      <th>9b0d979f</th>\n",
       "      <td> 12</td>\n",
       "      <td> IN</td>\n",
       "      <td> A series of cover-ups and comic situations occ...</td>\n",
       "      <td> Action</td>\n",
       "      <td> tt1728986</td>\n",
       "      <td>   Bol Bachchan</td>\n",
       "      <td> https://s3-ap-southeast-1.amazonaws.com/cinema...</td>\n",
       "      <td> 2.75</td>\n",
       "      <td> 1000</td>\n",
       "      <td> BOLLYWOOD</td>\n",
       "      <td>2012-07-06</td>\n",
       "      <td>  17</td>\n",
       "      <td> 155</td>\n",
       "      <td>   Bol Bachchan</td>\n",
       "    </tr>\n",
       "    <tr>\n",
       "      <th>0de1888f</th>\n",
       "      <td> 20</td>\n",
       "      <td> IN</td>\n",
       "      <td> Six would-be thieves enter a prestigious dance...</td>\n",
       "      <td>       </td>\n",
       "      <td> tt2461132</td>\n",
       "      <td> Happy New Year</td>\n",
       "      <td> https://s3-ap-southeast-1.amazonaws.com/cinema...</td>\n",
       "      <td> 2.75</td>\n",
       "      <td> 1000</td>\n",
       "      <td> BOLLYWOOD</td>\n",
       "      <td>2014-10-23</td>\n",
       "      <td>  53</td>\n",
       "      <td> 180</td>\n",
       "      <td> Happy New Year</td>\n",
       "    </tr>\n",
       "  </tbody>\n",
       "</table>\n",
       "</div>"
      ],
      "text/plain": [
       "          budget country                                        description   genre     imdbid   originaltitle                                         posterpath  rating  ratingcount     region releasedate  revenue  runtime           title\n",
       "id                                                                                                                                                                                                                                             \n",
       "0cae8726      75      IN  in Mumbai, India, beautiful middle-class Jhanv...          tt1084972          Wanted  https://s3-ap-southeast-1.amazonaws.com/cinema...    3.35         1000  BOLLYWOOD  2009-09-18      134        0          Wanted\n",
       "9b0d979f      12      IN  A series of cover-ups and comic situations occ...  Action  tt1728986    Bol Bachchan  https://s3-ap-southeast-1.amazonaws.com/cinema...    2.75         1000  BOLLYWOOD  2012-07-06       17      155    Bol Bachchan\n",
       "0de1888f      20      IN  Six would-be thieves enter a prestigious dance...          tt2461132  Happy New Year  https://s3-ap-southeast-1.amazonaws.com/cinema...    2.75         1000  BOLLYWOOD  2014-10-23       53      180  Happy New Year"
      ]
     },
     "execution_count": 41,
     "metadata": {},
     "output_type": "execute_result"
    }
   ],
   "source": [
    "# To be specific there are three such movies for which the values of budget have not been reported properly\n",
    "\n",
    "outliers = atleast_100_budget_non_zero[atleast_100_budget_non_zero.budget < 1e2]\n",
    "outliers.head()"
   ]
  },
  {
   "cell_type": "code",
   "execution_count": 42,
   "metadata": {
    "collapsed": false
   },
   "outputs": [
    {
     "data": {
      "text/html": [
       "<div style=\"max-height:1000px;max-width:1500px;overflow:auto;\">\n",
       "<table border=\"1\" class=\"dataframe\">\n",
       "  <thead>\n",
       "    <tr style=\"text-align: right;\">\n",
       "      <th></th>\n",
       "      <th>budget</th>\n",
       "      <th>country</th>\n",
       "      <th>description</th>\n",
       "      <th>genre</th>\n",
       "      <th>imdbid</th>\n",
       "      <th>originaltitle</th>\n",
       "      <th>posterpath</th>\n",
       "      <th>rating</th>\n",
       "      <th>ratingcount</th>\n",
       "      <th>region</th>\n",
       "      <th>releasedate</th>\n",
       "      <th>revenue</th>\n",
       "      <th>runtime</th>\n",
       "      <th>title</th>\n",
       "    </tr>\n",
       "    <tr>\n",
       "      <th>id</th>\n",
       "      <th></th>\n",
       "      <th></th>\n",
       "      <th></th>\n",
       "      <th></th>\n",
       "      <th></th>\n",
       "      <th></th>\n",
       "      <th></th>\n",
       "      <th></th>\n",
       "      <th></th>\n",
       "      <th></th>\n",
       "      <th></th>\n",
       "      <th></th>\n",
       "      <th></th>\n",
       "      <th></th>\n",
       "    </tr>\n",
       "  </thead>\n",
       "  <tbody>\n",
       "    <tr>\n",
       "      <th>1fb5c9f7</th>\n",
       "      <td>   441892</td>\n",
       "      <td> IN</td>\n",
       "      <td> Prem (Salman Khan) likes to think he knows mor...</td>\n",
       "      <td>       </td>\n",
       "      <td> tt0807758</td>\n",
       "      <td>                Partner</td>\n",
       "      <td> https://s3-ap-southeast-1.amazonaws.com/cinema...</td>\n",
       "      <td> 2.75</td>\n",
       "      <td> 1000</td>\n",
       "      <td> BOLLYWOOD</td>\n",
       "      <td>2007-01-01</td>\n",
       "      <td>  1030375</td>\n",
       "      <td> 155</td>\n",
       "      <td>                Partner</td>\n",
       "    </tr>\n",
       "    <tr>\n",
       "      <th>84bd9bc1</th>\n",
       "      <td> 20000000</td>\n",
       "      <td> IN</td>\n",
       "      <td> A villain threatens the romance of a pair of t...</td>\n",
       "      <td>       </td>\n",
       "      <td> tt0490170</td>\n",
       "      <td>        Love Story 2050</td>\n",
       "      <td> https://s3-ap-southeast-1.amazonaws.com/cinema...</td>\n",
       "      <td> 1.35</td>\n",
       "      <td> 1000</td>\n",
       "      <td> BOLLYWOOD</td>\n",
       "      <td>2008-07-04</td>\n",
       "      <td>  5000000</td>\n",
       "      <td> 180</td>\n",
       "      <td>        Love Story 2050</td>\n",
       "    </tr>\n",
       "    <tr>\n",
       "      <th>8df947ed</th>\n",
       "      <td>  4180000</td>\n",
       "      <td> IN</td>\n",
       "      <td> Sparks fly when Raj (Shahid Kapoor), a newly g...</td>\n",
       "      <td>       </td>\n",
       "      <td> tt1105733</td>\n",
       "      <td>      Kismat Konnection</td>\n",
       "      <td> https://s3-ap-southeast-1.amazonaws.com/cinema...</td>\n",
       "      <td> 2.60</td>\n",
       "      <td> 1000</td>\n",
       "      <td> BOLLYWOOD</td>\n",
       "      <td>2008-07-18</td>\n",
       "      <td> 11000000</td>\n",
       "      <td> 153</td>\n",
       "      <td>      Kismat Konnection</td>\n",
       "    </tr>\n",
       "    <tr>\n",
       "      <th>c21cf9db</th>\n",
       "      <td> 10000000</td>\n",
       "      <td> IN</td>\n",
       "      <td> Three people (Salman Khan, Kareena Kapoor, Soh...</td>\n",
       "      <td>       </td>\n",
       "      <td> tt1174041</td>\n",
       "      <td>  Main Aurr Mrs. Khanna</td>\n",
       "      <td> https://s3-ap-southeast-1.amazonaws.com/cinema...</td>\n",
       "      <td> 1.80</td>\n",
       "      <td> 1000</td>\n",
       "      <td> BOLLYWOOD</td>\n",
       "      <td>2009-10-16</td>\n",
       "      <td>  1850000</td>\n",
       "      <td> 109</td>\n",
       "      <td>  Main Aurr Mrs. Khanna</td>\n",
       "    </tr>\n",
       "    <tr>\n",
       "      <th>d7409b56</th>\n",
       "      <td> 50000000</td>\n",
       "      <td> IN</td>\n",
       "      <td> The film opens with the family of archeologist...</td>\n",
       "      <td>       </td>\n",
       "      <td> tt1227762</td>\n",
       "      <td>                 Aladin</td>\n",
       "      <td> https://s3-ap-southeast-1.amazonaws.com/cinema...</td>\n",
       "      <td> 2.30</td>\n",
       "      <td> 1000</td>\n",
       "      <td> BOLLYWOOD</td>\n",
       "      <td>2009-10-29</td>\n",
       "      <td> 58200000</td>\n",
       "      <td> 132</td>\n",
       "      <td>                 Aladin</td>\n",
       "    </tr>\n",
       "    <tr>\n",
       "      <th>6a8f69da</th>\n",
       "      <td>  4500000</td>\n",
       "      <td> IN</td>\n",
       "      <td> Pinky Palkar (Deepika Padukone) is an aspiring...</td>\n",
       "      <td> Action</td>\n",
       "      <td> tt1606267</td>\n",
       "      <td>      Lafangey Parindey</td>\n",
       "      <td> https://s3-ap-southeast-1.amazonaws.com/cinema...</td>\n",
       "      <td> 2.65</td>\n",
       "      <td> 1000</td>\n",
       "      <td> BOLLYWOOD</td>\n",
       "      <td>2010-08-20</td>\n",
       "      <td>  5000000</td>\n",
       "      <td> 126</td>\n",
       "      <td>      Lafangey Parindey</td>\n",
       "    </tr>\n",
       "    <tr>\n",
       "      <th>3a884c91</th>\n",
       "      <td>  5510000</td>\n",
       "      <td> IN</td>\n",
       "      <td> When Luv (Ali Zafar) has a bad break-up with h...</td>\n",
       "      <td> Action</td>\n",
       "      <td> tt1740710</td>\n",
       "      <td> Mere Brother Ki Dulhan</td>\n",
       "      <td> https://s3-ap-southeast-1.amazonaws.com/cinema...</td>\n",
       "      <td> 2.90</td>\n",
       "      <td> 1000</td>\n",
       "      <td> BOLLYWOOD</td>\n",
       "      <td>2011-09-09</td>\n",
       "      <td> 18050000</td>\n",
       "      <td>   0</td>\n",
       "      <td> Mere Brother Ki Dulhan</td>\n",
       "    </tr>\n",
       "    <tr>\n",
       "      <th>bb82c0d3</th>\n",
       "      <td> 37000000</td>\n",
       "      <td> IN</td>\n",
       "      <td> A woman chooses one of three friends who all h...</td>\n",
       "      <td>       </td>\n",
       "      <td> tt2229848</td>\n",
       "      <td>        Chashme Baddoor</td>\n",
       "      <td> https://s3-ap-southeast-1.amazonaws.com/cinema...</td>\n",
       "      <td> 2.70</td>\n",
       "      <td> 1000</td>\n",
       "      <td> BOLLYWOOD</td>\n",
       "      <td>2013-04-05</td>\n",
       "      <td>  5500000</td>\n",
       "      <td>   0</td>\n",
       "      <td>        Chashme Baddoor</td>\n",
       "    </tr>\n",
       "    <tr>\n",
       "      <th>536d0c1c</th>\n",
       "      <td> 11000000</td>\n",
       "      <td> IN</td>\n",
       "      <td> A man's (Shahrukh Khan) trip to fulfill his la...</td>\n",
       "      <td>       </td>\n",
       "      <td> tt2112124</td>\n",
       "      <td>        Chennai Express</td>\n",
       "      <td> https://s3-ap-southeast-1.amazonaws.com/cinema...</td>\n",
       "      <td> 2.95</td>\n",
       "      <td> 1000</td>\n",
       "      <td> BOLLYWOOD</td>\n",
       "      <td>2013-08-09</td>\n",
       "      <td> 60000000</td>\n",
       "      <td> 141</td>\n",
       "      <td>        Chennai Express</td>\n",
       "    </tr>\n",
       "  </tbody>\n",
       "</table>\n",
       "</div>"
      ],
      "text/plain": [
       "            budget country                                        description   genre     imdbid           originaltitle                                         posterpath  rating  ratingcount     region releasedate   revenue  runtime                   title\n",
       "id                                                                                                                                                                                                                                                                \n",
       "1fb5c9f7    441892      IN  Prem (Salman Khan) likes to think he knows mor...          tt0807758                 Partner  https://s3-ap-southeast-1.amazonaws.com/cinema...    2.75         1000  BOLLYWOOD  2007-01-01   1030375      155                 Partner\n",
       "84bd9bc1  20000000      IN  A villain threatens the romance of a pair of t...          tt0490170         Love Story 2050  https://s3-ap-southeast-1.amazonaws.com/cinema...    1.35         1000  BOLLYWOOD  2008-07-04   5000000      180         Love Story 2050\n",
       "8df947ed   4180000      IN  Sparks fly when Raj (Shahid Kapoor), a newly g...          tt1105733       Kismat Konnection  https://s3-ap-southeast-1.amazonaws.com/cinema...    2.60         1000  BOLLYWOOD  2008-07-18  11000000      153       Kismat Konnection\n",
       "c21cf9db  10000000      IN  Three people (Salman Khan, Kareena Kapoor, Soh...          tt1174041   Main Aurr Mrs. Khanna  https://s3-ap-southeast-1.amazonaws.com/cinema...    1.80         1000  BOLLYWOOD  2009-10-16   1850000      109   Main Aurr Mrs. Khanna\n",
       "d7409b56  50000000      IN  The film opens with the family of archeologist...          tt1227762                  Aladin  https://s3-ap-southeast-1.amazonaws.com/cinema...    2.30         1000  BOLLYWOOD  2009-10-29  58200000      132                  Aladin\n",
       "6a8f69da   4500000      IN  Pinky Palkar (Deepika Padukone) is an aspiring...  Action  tt1606267       Lafangey Parindey  https://s3-ap-southeast-1.amazonaws.com/cinema...    2.65         1000  BOLLYWOOD  2010-08-20   5000000      126       Lafangey Parindey\n",
       "3a884c91   5510000      IN  When Luv (Ali Zafar) has a bad break-up with h...  Action  tt1740710  Mere Brother Ki Dulhan  https://s3-ap-southeast-1.amazonaws.com/cinema...    2.90         1000  BOLLYWOOD  2011-09-09  18050000        0  Mere Brother Ki Dulhan\n",
       "bb82c0d3  37000000      IN  A woman chooses one of three friends who all h...          tt2229848         Chashme Baddoor  https://s3-ap-southeast-1.amazonaws.com/cinema...    2.70         1000  BOLLYWOOD  2013-04-05   5500000        0         Chashme Baddoor\n",
       "536d0c1c  11000000      IN  A man's (Shahrukh Khan) trip to fulfill his la...          tt2112124         Chennai Express  https://s3-ap-southeast-1.amazonaws.com/cinema...    2.95         1000  BOLLYWOOD  2013-08-09  60000000      141         Chennai Express"
      ]
     },
     "execution_count": 42,
     "metadata": {},
     "output_type": "execute_result"
    }
   ],
   "source": [
    "mask = ((atleast_100_budget_non_zero.budget > 1e5) & (atleast_100_budget_non_zero.rating < 3.0))\n",
    "flops = atleast_100_budget_non_zero[mask]\n",
    "flops"
   ]
  },
  {
   "cell_type": "markdown",
   "metadata": {},
   "source": [
    "** Indeed these are some of the worst movies. **"
   ]
  },
  {
   "cell_type": "markdown",
   "metadata": {},
   "source": [
    "## Relationship between runtime and ratings"
   ]
  },
  {
   "cell_type": "code",
   "execution_count": 43,
   "metadata": {
    "collapsed": true
   },
   "outputs": [],
   "source": [
    "# as earlier, we would again try to find subset of data \n",
    "# with non-zero runtime and rating values\n",
    "runtimes_non_zero = movies[(movies.runtime > 0) & (movies.rating > 0)]"
   ]
  },
  {
   "cell_type": "code",
   "execution_count": 44,
   "metadata": {
    "collapsed": false
   },
   "outputs": [
    {
     "data": {
      "image/png": "[encoded data removed]",
      "text/plain": [
       "<matplotlib.figure.Figure at 0x10cc63790>"
      ]
     },
     "metadata": {},
     "output_type": "display_data"
    }
   ],
   "source": [
    "runtimes_non_zero.plot(x='runtime', y='rating', kind='scatter',\n",
    "                       title='Relationship between runtime and ratings')\n",
    "plt.xlabel('Runtime (mins)')\n",
    "plt.ylabel('Ratings [0 - 5]');"
   ]
  },
  {
   "cell_type": "code",
   "execution_count": 45,
   "metadata": {
    "collapsed": false
   },
   "outputs": [
    {
     "data": {
      "text/html": [
       "<div style=\"max-height:1000px;max-width:1500px;overflow:auto;\">\n",
       "<table border=\"1\" class=\"dataframe\">\n",
       "  <thead>\n",
       "    <tr style=\"text-align: right;\">\n",
       "      <th></th>\n",
       "      <th>runtime</th>\n",
       "      <th>rating</th>\n",
       "    </tr>\n",
       "  </thead>\n",
       "  <tbody>\n",
       "    <tr>\n",
       "      <th>runtime</th>\n",
       "      <td> 1.000000</td>\n",
       "      <td> 0.111443</td>\n",
       "    </tr>\n",
       "    <tr>\n",
       "      <th>rating</th>\n",
       "      <td> 0.111443</td>\n",
       "      <td> 1.000000</td>\n",
       "    </tr>\n",
       "  </tbody>\n",
       "</table>\n",
       "</div>"
      ],
      "text/plain": [
       "          runtime    rating\n",
       "runtime  1.000000  0.111443\n",
       "rating   0.111443  1.000000"
      ]
     },
     "execution_count": 45,
     "metadata": {},
     "output_type": "execute_result"
    }
   ],
   "source": [
    "runtimes_non_zero[['runtime', 'rating']].corr()"
   ]
  },
  {
   "cell_type": "markdown",
   "metadata": {},
   "source": [
    "** So the relationship here is far from being linear, there are many movies that run less than 100 minutes and still have very  high ratings and there are certain movies that have high ratings even though they run over 3 hours.**"
   ]
  },
  {
   "cell_type": "code",
   "execution_count": 46,
   "metadata": {
    "collapsed": true
   },
   "outputs": [],
   "source": [
    "mask = ((runtimes_non_zero.runtime < 100) & (runtimes_non_zero.rating > 3.0))\n",
    "short_but_effective = runtimes_non_zero[mask]"
   ]
  },
  {
   "cell_type": "code",
   "execution_count": 47,
   "metadata": {
    "collapsed": false
   },
   "outputs": [
    {
     "data": {
      "text/html": [
       "<div style=\"max-height:1000px;max-width:1500px;overflow:auto;\">\n",
       "<table border=\"1\" class=\"dataframe\">\n",
       "  <thead>\n",
       "    <tr style=\"text-align: right;\">\n",
       "      <th></th>\n",
       "      <th>budget</th>\n",
       "      <th>country</th>\n",
       "      <th>description</th>\n",
       "      <th>genre</th>\n",
       "      <th>imdbid</th>\n",
       "      <th>originaltitle</th>\n",
       "      <th>posterpath</th>\n",
       "      <th>rating</th>\n",
       "      <th>ratingcount</th>\n",
       "      <th>region</th>\n",
       "      <th>releasedate</th>\n",
       "      <th>revenue</th>\n",
       "      <th>runtime</th>\n",
       "      <th>title</th>\n",
       "    </tr>\n",
       "    <tr>\n",
       "      <th>id</th>\n",
       "      <th></th>\n",
       "      <th></th>\n",
       "      <th></th>\n",
       "      <th></th>\n",
       "      <th></th>\n",
       "      <th></th>\n",
       "      <th></th>\n",
       "      <th></th>\n",
       "      <th></th>\n",
       "      <th></th>\n",
       "      <th></th>\n",
       "      <th></th>\n",
       "      <th></th>\n",
       "      <th></th>\n",
       "    </tr>\n",
       "  </thead>\n",
       "  <tbody>\n",
       "    <tr>\n",
       "      <th>4886cff0</th>\n",
       "      <td> 0</td>\n",
       "      <td> IN</td>\n",
       "      <td> Kiran Awasthi (Juhi Chawla) is engaged to Suni...</td>\n",
       "      <td> </td>\n",
       "      <td> tt0109556</td>\n",
       "      <td>          Darr</td>\n",
       "      <td> https://s3-ap-southeast-1.amazonaws.com/cinema...</td>\n",
       "      <td> 4.00</td>\n",
       "      <td> 1000</td>\n",
       "      <td> BOLLYWOOD</td>\n",
       "      <td>1993-12-23</td>\n",
       "      <td> 0</td>\n",
       "      <td> 94</td>\n",
       "      <td>          Darr</td>\n",
       "    </tr>\n",
       "    <tr>\n",
       "      <th>ca234902</th>\n",
       "      <td> 0</td>\n",
       "      <td> IN</td>\n",
       "      <td> An estranged family finds redemption in the un...</td>\n",
       "      <td> </td>\n",
       "      <td> tt0295682</td>\n",
       "      <td>   The Warrior</td>\n",
       "      <td> https://s3-ap-southeast-1.amazonaws.com/cinema...</td>\n",
       "      <td> 4.10</td>\n",
       "      <td> 1000</td>\n",
       "      <td> BOLLYWOOD</td>\n",
       "      <td>2001-09-23</td>\n",
       "      <td> 0</td>\n",
       "      <td> 86</td>\n",
       "      <td>   The Warrior</td>\n",
       "    </tr>\n",
       "    <tr>\n",
       "      <th>9bed700d</th>\n",
       "      <td> 0</td>\n",
       "      <td> IN</td>\n",
       "      <td> Swapner Din is a 2004 Bengali drama film direc...</td>\n",
       "      <td> </td>\n",
       "      <td> tt0424474</td>\n",
       "      <td>   Swapner Din</td>\n",
       "      <td> https://s3-ap-southeast-1.amazonaws.com/cinema...</td>\n",
       "      <td> 3.60</td>\n",
       "      <td> 1000</td>\n",
       "      <td> BOLLYWOOD</td>\n",
       "      <td>2004-04-01</td>\n",
       "      <td> 0</td>\n",
       "      <td> 89</td>\n",
       "      <td>   Swapner Din</td>\n",
       "    </tr>\n",
       "    <tr>\n",
       "      <th>67961f22</th>\n",
       "      <td> 0</td>\n",
       "      <td> IN</td>\n",
       "      <td> After a man's tragic death, his family casts o...</td>\n",
       "      <td> </td>\n",
       "      <td> tt0398390</td>\n",
       "      <td> White Rainbow</td>\n",
       "      <td> https://s3-ap-southeast-1.amazonaws.com/cinema...</td>\n",
       "      <td> 3.55</td>\n",
       "      <td> 1000</td>\n",
       "      <td> BOLLYWOOD</td>\n",
       "      <td>2005-03-03</td>\n",
       "      <td> 0</td>\n",
       "      <td> 94</td>\n",
       "      <td> White Rainbow</td>\n",
       "    </tr>\n",
       "    <tr>\n",
       "      <th>471e8836</th>\n",
       "      <td> 0</td>\n",
       "      <td> IN</td>\n",
       "      <td> Being Cyrus is an English language Indian film...</td>\n",
       "      <td> </td>\n",
       "      <td> tt0412308</td>\n",
       "      <td>   Being Cyrus</td>\n",
       "      <td> https://s3-ap-southeast-1.amazonaws.com/cinema...</td>\n",
       "      <td> 3.65</td>\n",
       "      <td> 1000</td>\n",
       "      <td> BOLLYWOOD</td>\n",
       "      <td>2006-03-24</td>\n",
       "      <td> 0</td>\n",
       "      <td> 90</td>\n",
       "      <td>   Being Cyrus</td>\n",
       "    </tr>\n",
       "  </tbody>\n",
       "</table>\n",
       "</div>"
      ],
      "text/plain": [
       "          budget country                                        description genre     imdbid  originaltitle                                         posterpath  rating  ratingcount     region releasedate  revenue  runtime          title\n",
       "id                                                                                                                                                                                                                                         \n",
       "4886cff0       0      IN  Kiran Awasthi (Juhi Chawla) is engaged to Suni...        tt0109556           Darr  https://s3-ap-southeast-1.amazonaws.com/cinema...    4.00         1000  BOLLYWOOD  1993-12-23        0       94           Darr\n",
       "ca234902       0      IN  An estranged family finds redemption in the un...        tt0295682    The Warrior  https://s3-ap-southeast-1.amazonaws.com/cinema...    4.10         1000  BOLLYWOOD  2001-09-23        0       86    The Warrior\n",
       "9bed700d       0      IN  Swapner Din is a 2004 Bengali drama film direc...        tt0424474    Swapner Din  https://s3-ap-southeast-1.amazonaws.com/cinema...    3.60         1000  BOLLYWOOD  2004-04-01        0       89    Swapner Din\n",
       "67961f22       0      IN  After a man's tragic death, his family casts o...        tt0398390  White Rainbow  https://s3-ap-southeast-1.amazonaws.com/cinema...    3.55         1000  BOLLYWOOD  2005-03-03        0       94  White Rainbow\n",
       "471e8836       0      IN  Being Cyrus is an English language Indian film...        tt0412308    Being Cyrus  https://s3-ap-southeast-1.amazonaws.com/cinema...    3.65         1000  BOLLYWOOD  2006-03-24        0       90    Being Cyrus"
      ]
     },
     "execution_count": 47,
     "metadata": {},
     "output_type": "execute_result"
    }
   ],
   "source": [
    "short_but_effective.head()"
   ]
  },
  {
   "cell_type": "code",
   "execution_count": 48,
   "metadata": {
    "collapsed": true
   },
   "outputs": [],
   "source": [
    "mask = ((runtimes_non_zero.runtime > 180) & (runtimes_non_zero.rating > 3))\n",
    "long_yet_effective = runtimes_non_zero[mask]"
   ]
  },
  {
   "cell_type": "code",
   "execution_count": 49,
   "metadata": {
    "collapsed": false
   },
   "outputs": [
    {
     "data": {
      "text/html": [
       "<div style=\"max-height:1000px;max-width:1500px;overflow:auto;\">\n",
       "<table border=\"1\" class=\"dataframe\">\n",
       "  <thead>\n",
       "    <tr style=\"text-align: right;\">\n",
       "      <th></th>\n",
       "      <th>budget</th>\n",
       "      <th>country</th>\n",
       "      <th>description</th>\n",
       "      <th>genre</th>\n",
       "      <th>imdbid</th>\n",
       "      <th>originaltitle</th>\n",
       "      <th>posterpath</th>\n",
       "      <th>rating</th>\n",
       "      <th>ratingcount</th>\n",
       "      <th>region</th>\n",
       "      <th>releasedate</th>\n",
       "      <th>revenue</th>\n",
       "      <th>runtime</th>\n",
       "      <th>title</th>\n",
       "    </tr>\n",
       "    <tr>\n",
       "      <th>id</th>\n",
       "      <th></th>\n",
       "      <th></th>\n",
       "      <th></th>\n",
       "      <th></th>\n",
       "      <th></th>\n",
       "      <th></th>\n",
       "      <th></th>\n",
       "      <th></th>\n",
       "      <th></th>\n",
       "      <th></th>\n",
       "      <th></th>\n",
       "      <th></th>\n",
       "      <th></th>\n",
       "      <th></th>\n",
       "    </tr>\n",
       "  </thead>\n",
       "  <tbody>\n",
       "    <tr>\n",
       "      <th>46f73436</th>\n",
       "      <td>       0</td>\n",
       "      <td> IN</td>\n",
       "      <td> Three brothers (Amitabh Bachchan, Govinda, Raj...</td>\n",
       "      <td> Action</td>\n",
       "      <td> tt0102071</td>\n",
       "      <td>                         Hum</td>\n",
       "      <td> https://s3-ap-southeast-1.amazonaws.com/cinema...</td>\n",
       "      <td> 3.45</td>\n",
       "      <td> 1000</td>\n",
       "      <td> BOLLYWOOD</td>\n",
       "      <td>1991-01-23</td>\n",
       "      <td>        0</td>\n",
       "      <td> 184</td>\n",
       "      <td>                         Hum</td>\n",
       "    </tr>\n",
       "    <tr>\n",
       "      <th>90b92bcf</th>\n",
       "      <td>       0</td>\n",
       "      <td> IN</td>\n",
       "      <td> An Afghan warrior (Amitabh Bachchan) seeks fin...</td>\n",
       "      <td> Action</td>\n",
       "      <td> tt0104607</td>\n",
       "      <td>                 Khuda Gawah</td>\n",
       "      <td> https://s3-ap-southeast-1.amazonaws.com/cinema...</td>\n",
       "      <td> 3.25</td>\n",
       "      <td> 1000</td>\n",
       "      <td> BOLLYWOOD</td>\n",
       "      <td>1992-05-08</td>\n",
       "      <td>        0</td>\n",
       "      <td> 193</td>\n",
       "      <td>                 Khuda Gawah</td>\n",
       "    </tr>\n",
       "    <tr>\n",
       "      <th>1c20c038</th>\n",
       "      <td>       0</td>\n",
       "      <td> IN</td>\n",
       "      <td> Prem, a top student, is learning the ropes of ...</td>\n",
       "      <td>       </td>\n",
       "      <td> tt0110076</td>\n",
       "      <td>         Hum Aapke Hain Koun</td>\n",
       "      <td> https://s3-ap-southeast-1.amazonaws.com/cinema...</td>\n",
       "      <td> 3.85</td>\n",
       "      <td> 1000</td>\n",
       "      <td> BOLLYWOOD</td>\n",
       "      <td>1994-08-05</td>\n",
       "      <td> 26900000</td>\n",
       "      <td> 206</td>\n",
       "      <td>         Hum Aapke Hain Koun</td>\n",
       "    </tr>\n",
       "    <tr>\n",
       "      <th>c89fb5d8</th>\n",
       "      <td> 1000000</td>\n",
       "      <td> IN</td>\n",
       "      <td> Raj and Simran meet on a trip to Europe. After...</td>\n",
       "      <td>       </td>\n",
       "      <td> tt0112870</td>\n",
       "      <td> Dilwale Dulhania Le Jayenge</td>\n",
       "      <td> https://s3-ap-southeast-1.amazonaws.com/cinema...</td>\n",
       "      <td> 4.15</td>\n",
       "      <td> 1000</td>\n",
       "      <td> BOLLYWOOD</td>\n",
       "      <td>1995-10-19</td>\n",
       "      <td> 10320000</td>\n",
       "      <td> 189</td>\n",
       "      <td> Dilwale Dulhania Le Jayenge</td>\n",
       "    </tr>\n",
       "    <tr>\n",
       "      <th>bc3b1c5f</th>\n",
       "      <td>       0</td>\n",
       "      <td> IN</td>\n",
       "      <td> Emotionally attached to his motherland, a U.S....</td>\n",
       "      <td>       </td>\n",
       "      <td> tt0119861</td>\n",
       "      <td>                      Pardes</td>\n",
       "      <td> https://s3-ap-southeast-1.amazonaws.com/cinema...</td>\n",
       "      <td> 3.50</td>\n",
       "      <td> 1000</td>\n",
       "      <td> BOLLYWOOD</td>\n",
       "      <td>1997-01-01</td>\n",
       "      <td>        0</td>\n",
       "      <td> 191</td>\n",
       "      <td>                      Pardes</td>\n",
       "    </tr>\n",
       "  </tbody>\n",
       "</table>\n",
       "</div>"
      ],
      "text/plain": [
       "           budget country                                        description   genre     imdbid                originaltitle                                         posterpath  rating  ratingcount     region releasedate   revenue  runtime                        title\n",
       "id                                                                                                                                                                                                                                                                         \n",
       "46f73436        0      IN  Three brothers (Amitabh Bachchan, Govinda, Raj...  Action  tt0102071                          Hum  https://s3-ap-southeast-1.amazonaws.com/cinema...    3.45         1000  BOLLYWOOD  1991-01-23         0      184                          Hum\n",
       "90b92bcf        0      IN  An Afghan warrior (Amitabh Bachchan) seeks fin...  Action  tt0104607                  Khuda Gawah  https://s3-ap-southeast-1.amazonaws.com/cinema...    3.25         1000  BOLLYWOOD  1992-05-08         0      193                  Khuda Gawah\n",
       "1c20c038        0      IN  Prem, a top student, is learning the ropes of ...          tt0110076          Hum Aapke Hain Koun  https://s3-ap-southeast-1.amazonaws.com/cinema...    3.85         1000  BOLLYWOOD  1994-08-05  26900000      206          Hum Aapke Hain Koun\n",
       "c89fb5d8  1000000      IN  Raj and Simran meet on a trip to Europe. After...          tt0112870  Dilwale Dulhania Le Jayenge  https://s3-ap-southeast-1.amazonaws.com/cinema...    4.15         1000  BOLLYWOOD  1995-10-19  10320000      189  Dilwale Dulhania Le Jayenge\n",
       "bc3b1c5f        0      IN  Emotionally attached to his motherland, a U.S....          tt0119861                       Pardes  https://s3-ap-southeast-1.amazonaws.com/cinema...    3.50         1000  BOLLYWOOD  1997-01-01         0      191                       Pardes"
      ]
     },
     "execution_count": 49,
     "metadata": {},
     "output_type": "execute_result"
    }
   ],
   "source": [
    "long_yet_effective.head()"
   ]
  },
  {
   "cell_type": "markdown",
   "metadata": {},
   "source": [
    "## Relationship between Release date and Ratings"
   ]
  },
  {
   "cell_type": "markdown",
   "metadata": {},
   "source": [
    "** How ratings have changed over years ?**"
   ]
  },
  {
   "cell_type": "code",
   "execution_count": 51,
   "metadata": {
    "collapsed": false
   },
   "outputs": [],
   "source": [
    "ratings_non_zero  = movies[movies.rating > 0]\n",
    "ratings_non_zero.loc[:, 'releasedecade'] = ratings_non_zero.releasedate.dt.year // 10 * 10\n",
    "ratings_non_zero.loc[:, 'releaseyear'] = ratings_non_zero.releasedate.dt.year\n",
    "ratings_non_zero.loc[:, 'releasemonth'] = ratings_non_zero.releasedate.dt.month"
   ]
  },
  {
   "cell_type": "code",
   "execution_count": 52,
   "metadata": {
    "collapsed": false
   },
   "outputs": [
    {
     "data": {
      "image/png": "[encoded data removed]",
      "text/plain": [
       "<matplotlib.figure.Figure at 0x10bae1dd0>"
      ]
     },
     "metadata": {},
     "output_type": "display_data"
    }
   ],
   "source": [
    "ratings_non_zero.plot(x='releaseyear', y='rating', kind='scatter',\n",
    "                      title='How ratings have changed over years')\n",
    "plt.xlabel('Year in which the movie was released.')\n",
    "plt.ylabel('Ratings [0 - 5]');"
   ]
  },
  {
   "cell_type": "markdown",
   "metadata": {},
   "source": [
    "** More and more movies are getting rated since 1990. **"
   ]
  },
  {
   "cell_type": "code",
   "execution_count": 54,
   "metadata": {
    "collapsed": false
   },
   "outputs": [
    {
     "data": {
      "image/png": "[encoded data removed]",
      "text/plain": [
       "<matplotlib.figure.Figure at 0x10c911dd0>"
      ]
     },
     "metadata": {},
     "output_type": "display_data"
    }
   ],
   "source": [
    "ratings_non_zero.plot(x='releasemonth', y='rating', kind='scatter',\n",
    "                      title='How ratings have changed over years')\n",
    "plt.xlabel('Month in which the movie was released.')\n",
    "plt.ylabel('Ratings [0 - 5]')\n",
    "plt.title('Relationship between release month and rating.');"
   ]
  },
  {
   "cell_type": "code",
   "execution_count": 55,
   "metadata": {
    "collapsed": false
   },
   "outputs": [
    {
     "data": {
      "text/plain": [
       "releasemonth\n",
       "1               47\n",
       "9               40\n",
       "10              39\n",
       "7               33\n",
       "5               30\n",
       "8               28\n",
       "11              27\n",
       "4               27\n",
       "2               25\n",
       "6               23\n",
       "12              22\n",
       "3               16\n",
       "dtype: int64"
      ]
     },
     "execution_count": 55,
     "metadata": {},
     "output_type": "execute_result"
    }
   ],
   "source": [
    "movies_grouped_by_releasemonth = ratings_non_zero.groupby('releasemonth')\n",
    "movies_grouped_by_releasemonth.size().order(ascending=False)"
   ]
  },
  {
   "cell_type": "markdown",
   "metadata": {},
   "source": [
    "** As you can see most of the movies were released in January ( New Year ) followed by September ( Eid ) **"
   ]
  },
  {
   "cell_type": "code",
   "execution_count": 56,
   "metadata": {
    "collapsed": false
   },
   "outputs": [
    {
     "data": {
      "text/plain": [
       "releasemonth\n",
       "1               2.959220\n",
       "2               3.196000\n",
       "3               2.990625\n",
       "4               2.864815\n",
       "5               3.040000\n",
       "6               3.054357\n",
       "7               2.980303\n",
       "8               2.966071\n",
       "9               3.116250\n",
       "10              2.898718\n",
       "11              3.024074\n",
       "12              3.318259\n",
       "Name: rating, dtype: float64"
      ]
     },
     "execution_count": 56,
     "metadata": {},
     "output_type": "execute_result"
    }
   ],
   "source": [
    "movies_grouped_by_releasemonth.rating.mean()"
   ]
  },
  {
   "cell_type": "code",
   "execution_count": 57,
   "metadata": {
    "collapsed": false
   },
   "outputs": [
    {
     "data": {
      "image/png": "[encoded data removed]",
      "text/plain": [
       "<matplotlib.figure.Figure at 0x10b849550>"
      ]
     },
     "metadata": {},
     "output_type": "display_data"
    }
   ],
   "source": [
    "movies_grouped_by_releasemonth.rating.mean().plot()\n",
    "plt.xlabel('Month in which the movie was released.')\n",
    "plt.ylabel('Mean ratings of all movies released in a particular month')\n",
    "plt.title('Relationship between Month in which movie was released and ratings');"
   ]
  },
  {
   "cell_type": "markdown",
   "metadata": {},
   "source": [
    "** There seems to be a trend, movies that were released in first and last quarter generally have high ratings **"
   ]
  },
  {
   "cell_type": "markdown",
   "metadata": {},
   "source": [
    "## Distribution of ratings"
   ]
  },
  {
   "cell_type": "code",
   "execution_count": 65,
   "metadata": {
    "collapsed": false
   },
   "outputs": [
    {
     "data": {
      "image/png": "[encoded data removed]",
      "text/plain": [
       "<matplotlib.figure.Figure at 0x10cc64890>"
      ]
     },
     "metadata": {},
     "output_type": "display_data"
    }
   ],
   "source": [
    "plt.hist(ratings_non_zero.rating);"
   ]
  },
  {
   "cell_type": "code",
   "execution_count": 67,
   "metadata": {
    "collapsed": true
   },
   "outputs": [],
   "source": [
    "ratings_non_zero_with_date_index = ratings_non_zero.set_index('releasedate')"
   ]
  },
  {
   "cell_type": "code",
   "execution_count": 85,
   "metadata": {
    "collapsed": false
   },
   "outputs": [
    {
     "data": {
      "image/png": "[encoded data removed]",
      "text/plain": [
       "<matplotlib.figure.Figure at 0x10b858f50>"
      ]
     },
     "metadata": {},
     "output_type": "display_data"
    }
   ],
   "source": [
    "only_ratings = ratings_non_zero_with_date_index.rating\n",
    "only_ratings.plot(kind='line');\n",
    "plt.axhline(only_ratings.mean(), 0., 1., color='r', label='Mean Rating');\n",
    "plt.legend(loc=0);"
   ]
  },
  {
   "cell_type": "code",
   "execution_count": 79,
   "metadata": {
    "collapsed": false
   },
   "outputs": [
    {
     "data": {
      "text/plain": [
       "3.0234880476190482"
      ]
     },
     "execution_count": 79,
     "metadata": {},
     "output_type": "execute_result"
    }
   ],
   "source": [
    "only_ratings.mean()"
   ]
  },
  {
   "cell_type": "code",
   "execution_count": null,
   "metadata": {
    "collapsed": true
   },
   "outputs": [],
   "source": []
  },
  {
   "cell_type": "code",
   "execution_count": null,
   "metadata": {
    "collapsed": true
   },
   "outputs": [],
   "source": []
  },
  {
   "cell_type": "code",
   "execution_count": null,
   "metadata": {
    "collapsed": true
   },
   "outputs": [],
   "source": []
  },
  {
   "cell_type": "code",
   "execution_count": null,
   "metadata": {
    "collapsed": true
   },
   "outputs": [],
   "source": []
  },
  {
   "cell_type": "code",
   "execution_count": null,
   "metadata": {
    "collapsed": true
   },
   "outputs": [],
   "source": []
  },
  {
   "cell_type": "code",
   "execution_count": null,
   "metadata": {
    "collapsed": true
   },
   "outputs": [],
   "source": []
  },
  {
   "cell_type": "code",
   "execution_count": null,
   "metadata": {
    "collapsed": true
   },
   "outputs": [],
   "source": []
  },
  {
   "cell_type": "code",
   "execution_count": null,
   "metadata": {
    "collapsed": true
   },
   "outputs": [],
   "source": []
  },
  {
   "cell_type": "code",
   "execution_count": null,
   "metadata": {
    "collapsed": true
   },
   "outputs": [],
   "source": []
  },
  {
   "cell_type": "code",
   "execution_count": null,
   "metadata": {
    "collapsed": true
   },
   "outputs": [],
   "source": []
  },
  {
   "cell_type": "code",
   "execution_count": null,
   "metadata": {
    "collapsed": true
   },
   "outputs": [],
   "source": []
  },
  {
   "cell_type": "code",
   "execution_count": null,
   "metadata": {
    "collapsed": true
   },
   "outputs": [],
   "source": []
  },
  {
   "cell_type": "code",
   "execution_count": null,
   "metadata": {
    "collapsed": true
   },
   "outputs": [],
   "source": []
  },
  {
   "cell_type": "code",
   "execution_count": null,
   "metadata": {
    "collapsed": true
   },
   "outputs": [],
   "source": []
  },
  {
   "cell_type": "code",
   "execution_count": null,
   "metadata": {
    "collapsed": true
   },
   "outputs": [],
   "source": []
  },
  {
   "cell_type": "code",
   "execution_count": null,
   "metadata": {
    "collapsed": true
   },
   "outputs": [],
   "source": []
  },
  {
   "cell_type": "code",
   "execution_count": null,
   "metadata": {
    "collapsed": true
   },
   "outputs": [],
   "source": []
  },
  {
   "cell_type": "code",
   "execution_count": null,
   "metadata": {
    "collapsed": true
   },
   "outputs": [],
   "source": []
  },
  {
   "cell_type": "code",
   "execution_count": null,
   "metadata": {
    "collapsed": true
   },
   "outputs": [],
   "source": []
  },
  {
   "cell_type": "code",
   "execution_count": null,
   "metadata": {
    "collapsed": true
   },
   "outputs": [],
   "source": []
  },
  {
   "cell_type": "code",
   "execution_count": null,
   "metadata": {
    "collapsed": true
   },
   "outputs": [],
   "source": []
  }
 ],
 "metadata": {
  "kernelspec": {
   "display_name": "Python 2",
   "language": "python",
   "name": "python2"
  },
  "language_info": {
   "codemirror_mode": {
    "name": "ipython",
    "version": 2
   },
   "file_extension": ".py",
   "mimetype": "text/x-python",
   "name": "python",
   "nbconvert_exporter": "python",
   "pygments_lexer": "ipython2",
   "version": "2.7.10"
  }
 },
 "nbformat": 4,
 "nbformat_minor": 0
}
